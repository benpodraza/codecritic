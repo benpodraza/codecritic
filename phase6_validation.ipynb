{
 "cells": [
  {
   "cell_type": "code",
   "execution_count": null,
   "id": "phase6",
   "metadata": {},
   "outputs": [],
   "source": [
    "from importlib import import_module\n",
    "import pandas as pd\n",
    "from app.abstract_classes.experiment import Experiment\n",
    "from app.factories.experiment_config_provider import ExperimentConfigProvider\n",
    "from app.utilities import db\n",
    "\n",
    "import_module('app.extensions.agents')\n",
    "import_module('app.extensions.tool_providers')\n",
    "import_module('app.extensions.context_providers')\n",
    "import_module('app.extensions.prompt_generators')\n",
    "import_module('app.extensions.state_managers')\n",
    "import_module('app.extensions.system_managers')\n",
    "import_module('app.extensions.scoring_models')\n",
    "\n",
    "ExperimentConfigProvider.register(1, {\n",
    "    'system_manager_id': 'system',\n",
    "    'scoring_model_id': 'basic'\n",
    "})\n",
    "\n",
    "exp = Experiment(config_id=1)\n",
    "metrics = exp.run()\n",
    "\n",
    "conn = db.get_connection()\n",
    "state_df = pd.read_sql_query('SELECT * FROM state_log', conn)\n",
    "prompt_df = pd.read_sql_query('SELECT * FROM prompt_log', conn)\n",
    "score_df = pd.read_sql_query('SELECT * FROM scoring_log', conn)\n",
    "conn.close()\n",
    "\n",
    "display(state_df)\n",
    "display(prompt_df)\n",
    "display(score_df)\n",
    "print(metrics)\n"
   ]
  }
 ],
 "metadata": {
  "kernelspec": {
   "display_name": ".venv",
   "language": "python",
   "name": "python3"
  },
  "language_info": {
   "codemirror_mode": {
    "name": "ipython",
    "version": 3
   },
   "file_extension": ".py",
   "mimetype": "text/x-python",
   "name": "python",
   "nbconvert_exporter": "python",
   "pygments_lexer": "ipython3",
   "version": "3.12.6"
  }
 },
 "nbformat": 4,
 "nbformat_minor": 5
}
