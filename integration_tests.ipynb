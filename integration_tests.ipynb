{
 "cells": [
  {
   "cell_type": "code",
   "execution_count": null,
   "metadata": {},
   "outputs": [],
   "source": [
    "import os, types, sys\n",
    "from pathlib import Path\n",
    "from app.utils.agent_factory import build_agent\n",
    "from app.registries.system_registry import SYSTEM_REGISTRY\n",
    "from app.utils.symbol_graph.symbol_service import SymbolService\n",
    "\n",
    "# Patch engine to avoid OpenAI dependency\n",
    "class FakeEngine:\n",
    "    def call_engine(self, prompt: str, config: dict):\n",
    "        return 'fake response'\n",
    "\n",
    "fake_module = types.SimpleNamespace(OpenAiGpt4oAgentEngineRunner=FakeEngine)\n",
    "sys.modules['app.utils.engine.openai_gpt4o_runner'] = fake_module\n",
    "os.environ['OPENAI_API_KEY'] = 'fake'\n",
    "\n",
    "symbol_service = SymbolService(Path('.'))\n",
    "agent = build_agent('generator', symbol_service)\n",
    "result = agent.run({'symbol': 'x', 'file': __file__, 'experiment_id': 'demo', 'run_id': '1', 'round': 1, 'system': 'demo', 'log_path': Path('.')})\n",
    "print('Result:', result['response'])\n",
    "print('System config:', SYSTEM_REGISTRY['refactoring'])"
   ]
  }
 ],
 "metadata": {
  "kernelspec": {
   "display_name": "Python 3",
   "language": "python",
   "name": "python3"
  },
  "language_info": {
   "name": "python",
   "version": "3.11"
  }
 },
 "nbformat": 4,
 "nbformat_minor": 5
}
