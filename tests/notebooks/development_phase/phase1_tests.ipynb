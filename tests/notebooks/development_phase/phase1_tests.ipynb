{
 "cells": [
  {
   "cell_type": "code",
   "execution_count": 1,
   "id": "2c649fa2",
   "metadata": {},
   "outputs": [
    {
     "name": "stdout",
     "output_type": "stream",
     "text": [
      "<app.extensions.agents.dummy_agent.DummyAgent object at 0x000001C6D8873770> <app.extensions.system_managers.dummy_system_manager.DummySystemManager object at 0x000001C6DE02D190> <app.extensions.state_managers.dummy_state_manager.DummyStateManager object at 0x000001C6DE0442C0> dummy prompt True 0\n"
     ]
    }
   ],
   "source": [
    "from importlib import import_module\n",
    "from app.factories.agent import AgentFactory\n",
    "from app.factories.system_manager import SystemManagerFactory\n",
    "from app.factories.state_manager import StateManagerFactory\n",
    "from app.factories.prompt_manager import PromptGeneratorFactory\n",
    "from app.factories.tool_provider import ToolProviderFactory\n",
    "from app.factories.scoring_provider import ScoringProviderFactory\n",
    "\n",
    "import_module(\"app.extensions.agents\")\n",
    "import_module(\"app.extensions.system_managers\")\n",
    "import_module(\"app.extensions.state_managers\")\n",
    "import_module(\"app.extensions.prompt_generators\")\n",
    "import_module(\"app.extensions.context_providers\")\n",
    "import_module(\"app.extensions.tool_providers\")\n",
    "import_module(\"app.extensions.scoring_models\")\n",
    "\n",
    "agent = AgentFactory.create(\"dummy\")\n",
    "system_manager = SystemManagerFactory.create(\"dummy\")\n",
    "state_manager = StateManagerFactory.create(\"dummy\")\n",
    "prompt_gen = PromptGeneratorFactory.create(\"dummy\")\n",
    "tool_provider = ToolProviderFactory.create(\"dummy\")\n",
    "scoring_provider = ScoringProviderFactory.create(\"dummy\")\n",
    "\n",
    "print(\n",
    "    agent,\n",
    "    system_manager,\n",
    "    state_manager,\n",
    "    prompt_gen.generate_prompt(),\n",
    "    tool_provider.run(),\n",
    "    scoring_provider.score(),\n",
    ")"
   ]
  }
 ],
 "metadata": {
  "kernelspec": {
   "display_name": ".venv",
   "language": "python",
   "name": "python3"
  },
  "language_info": {
   "codemirror_mode": {
    "name": "ipython",
    "version": 3
   },
   "file_extension": ".py",
   "mimetype": "text/x-python",
   "name": "python",
   "nbconvert_exporter": "python",
   "pygments_lexer": "ipython3",
   "version": "3.12.6"
  }
 },
 "nbformat": 4,
 "nbformat_minor": 5
}
