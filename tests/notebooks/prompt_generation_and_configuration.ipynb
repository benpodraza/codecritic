{
 "cells": [
  {
   "cell_type": "markdown",
   "metadata": {},
   "source": [
    "# Notebook: Prompt Generation and Configuration\n",
    "\n",
    "This notebook validates prompt creation, context provider integrations, extension mechanisms, and logging behavior. It follows the structure of the linting build-up notebook to ensure consistent testing."
   ]
  },
  {
   "cell_type": "code",
   "execution_count": 1,
   "id": "87b230e4",
   "metadata": {},
   "outputs": [],
   "source": [
    "import sys\n",
    "from importlib import import_module\n",
    "import logging\n",
    "from pathlib import Path\n",
    "\n",
    "PROJECT_ROOT = Path.cwd().parent.parent\n",
    "sys.path.insert(0, str(PROJECT_ROOT))\n",
    "\n",
    "from app.factories.prompt_manager import PromptGeneratorFactory\n",
    "from app.factories.context_provider import ContextProviderFactory\n",
    "from app.factories.logging_provider import LoggingProvider\n",
    "from app.factories.tool_provider import ToolProviderFactory\n",
    "\n",
    "import_module(\"app.extensions.prompt_generators\")\n",
    "import_module(\"app.extensions.context_providers\")\n",
    "import_module(\"app.extensions.tool_providers\")\n",
    "\n",
    "logging.basicConfig(level=logging.DEBUG)"
   ]
  },
  {
   "cell_type": "markdown",
   "id": "38c3c666",
   "metadata": {},
   "source": [
    "### Basic System Prompt\n",
    "\n",
    "A minimal system prompt is created using the `BasicPromptGenerator`. The prompt combines system and agent templates with optional context."
   ]
  },
  {
   "cell_type": "code",
   "execution_count": 2,
   "id": "55ddcc4b",
   "metadata": {},
   "outputs": [
    {
     "name": "stderr",
     "output_type": "stream",
     "text": [
      "DEBUG:BasicPromptGenerator:Prompt generation start\n",
      "DEBUG:DummyContextProvider:Context retrieval start\n",
      "INFO:DummyContextProvider:Dummy context provided\n",
      "DEBUG:DummyContextProvider:Context retrieval end\n",
      "DEBUG:BasicPromptGenerator:Raw context: {}\n",
      "INFO:BasicPromptGenerator:Prompt generated\n",
      "DEBUG:BasicPromptGenerator:Prompt content: Agent instructions\n",
      "\n",
      "System instructions\n",
      "\n",
      "\n",
      "DEBUG:BasicPromptGenerator:Prompt generation logged\n"
     ]
    },
    {
     "name": "stdout",
     "output_type": "stream",
     "text": [
      "Agent instructions\n",
      "\n",
      "System instructions\n",
      "\n",
      "\n"
     ]
    }
   ],
   "source": [
    "provider = ContextProviderFactory.create(\"dummy\")\n",
    "generator = PromptGeneratorFactory.create(\"basic\", context_provider=provider)\n",
    "\n",
    "system_config = {\"template\": \"System instructions\"}\n",
    "agent_config = {\"template\": \"Agent instructions\"}\n",
    "\n",
    "experiment_id = \"exp001\"  # Set this properly\n",
    "round_number = 1\n",
    "\n",
    "try:\n",
    "    prompt = generator.generate_prompt(\n",
    "        agent_config=agent_config,\n",
    "        system_config=system_config,\n",
    "        experiment_id=experiment_id,\n",
    "        round=round_number,\n",
    "    )\n",
    "    print(prompt)\n",
    "except Exception as e:\n",
    "    print(\"Prompt generation failed:\", e)"
   ]
  },
  {
   "cell_type": "markdown",
   "id": "f0d45c28",
   "metadata": {},
   "source": [
    "### Multiple Agent-Level Prompts\n",
    "\n",
    "Prompts for generation, evaluation, and mediation roles are produced to ensure the generator handles varied agent instructions."
   ]
  },
  {
   "cell_type": "code",
   "execution_count": 4,
   "id": "e9d7f78c",
   "metadata": {},
   "outputs": [
    {
     "name": "stderr",
     "output_type": "stream",
     "text": [
      "DEBUG:BasicPromptGenerator:Prompt generation start\n",
      "DEBUG:DummyContextProvider:Context retrieval start\n",
      "INFO:DummyContextProvider:Dummy context provided\n",
      "DEBUG:DummyContextProvider:Context retrieval end\n",
      "DEBUG:BasicPromptGenerator:Raw context: {}\n",
      "INFO:BasicPromptGenerator:Prompt generated\n",
      "DEBUG:BasicPromptGenerator:Prompt content: Generation prompt\n",
      "\n",
      "System instructions\n",
      "\n",
      "\n",
      "DEBUG:BasicPromptGenerator:Prompt generation logged\n",
      "DEBUG:BasicPromptGenerator:Prompt generation start\n",
      "DEBUG:DummyContextProvider:Context retrieval start\n",
      "INFO:DummyContextProvider:Dummy context provided\n",
      "DEBUG:DummyContextProvider:Context retrieval end\n",
      "DEBUG:BasicPromptGenerator:Raw context: {}\n",
      "INFO:BasicPromptGenerator:Prompt generated\n",
      "DEBUG:BasicPromptGenerator:Prompt content: Evaluation prompt\n",
      "\n",
      "System instructions\n",
      "\n",
      "\n",
      "DEBUG:BasicPromptGenerator:Prompt generation logged\n",
      "DEBUG:BasicPromptGenerator:Prompt generation start\n",
      "DEBUG:DummyContextProvider:Context retrieval start\n",
      "INFO:DummyContextProvider:Dummy context provided\n",
      "DEBUG:DummyContextProvider:Context retrieval end\n",
      "DEBUG:BasicPromptGenerator:Raw context: {}\n",
      "INFO:BasicPromptGenerator:Prompt generated\n",
      "DEBUG:BasicPromptGenerator:Prompt content: Mediation prompt\n",
      "\n",
      "System instructions\n",
      "\n",
      "\n",
      "DEBUG:BasicPromptGenerator:Prompt generation logged\n"
     ]
    },
    {
     "name": "stdout",
     "output_type": "stream",
     "text": [
      "generation: Generation prompt\n",
      "\n",
      "System instructions\n",
      "\n",
      "\n",
      "evaluation: Evaluation prompt\n",
      "\n",
      "System instructions\n",
      "\n",
      "\n",
      "mediation: Mediation prompt\n",
      "\n",
      "System instructions\n",
      "\n",
      "\n"
     ]
    }
   ],
   "source": [
    "agent_configs = {\n",
    "    \"generation\": {\"template\": \"Generation prompt\"},\n",
    "    \"evaluation\": {\"template\": \"Evaluation prompt\"},\n",
    "    \"mediation\": {\"template\": \"Mediation prompt\"},\n",
    "}\n",
    "\n",
    "experiment_id = \"exp001\"  # Your experiment ID\n",
    "round_number = 1  # Your experiment round\n",
    "\n",
    "for name, cfg in agent_configs.items():\n",
    "    try:\n",
    "        p = generator.generate_prompt(cfg, system_config, experiment_id, round_number)\n",
    "        print(f\"{name}: {p}\")\n",
    "    except Exception as e:\n",
    "        print(f\"{name} failed:\", e)"
   ]
  },
  {
   "cell_type": "code",
   "execution_count": 6,
   "id": "444e50f1",
   "metadata": {},
   "outputs": [
    {
     "name": "stdout",
     "output_type": "stream",
     "text": [
      "Final Prompt Generation logs in database: [('exp001', 1, 'BasicPromptGenerator', 'DummyContextProvider', '{\"template\": \"Agent instructions\"}', '{\"template\": \"System instructions\"}', 'Agent instructions\\n\\nSystem instructions\\n\\n', 1, None, '2025-05-19T03:10:28.427107+00:00')]\n"
     ]
    }
   ],
   "source": [
    "import sqlite3\n",
    "from pathlib import Path\n",
    "\n",
    "db_path = Path.cwd().parent.parent / \"experiments\" / \"codecritic.sqlite3\"\n",
    "conn = sqlite3.connect(db_path)\n",
    "cursor = conn.cursor()\n",
    "\n",
    "cursor.execute(\"SELECT * FROM prompt_generation_log\")\n",
    "prompt_logs = cursor.fetchall()\n",
    "\n",
    "print(\"Final Prompt Generation logs in database:\", prompt_logs)\n",
    "conn.close()"
   ]
  },
  {
   "cell_type": "markdown",
   "id": "c317333c",
   "metadata": {},
   "source": [
    "### Context Providers\n",
    "\n",
    "Different context providers supply additional code data. This cell registers available providers and renders prompts with each."
   ]
  },
  {
   "cell_type": "code",
   "execution_count": 7,
   "id": "fe454254",
   "metadata": {},
   "outputs": [
    {
     "name": "stderr",
     "output_type": "stream",
     "text": [
      "DEBUG:DummyContextProvider:Context retrieval start\n",
      "INFO:DummyContextProvider:Dummy context provided\n",
      "DEBUG:DummyContextProvider:Context retrieval end\n",
      "DEBUG:BasicPromptGenerator:Prompt generation start\n",
      "DEBUG:DummyContextProvider:Context retrieval start\n",
      "INFO:DummyContextProvider:Dummy context provided\n",
      "DEBUG:DummyContextProvider:Context retrieval end\n",
      "DEBUG:BasicPromptGenerator:Raw context: {}\n",
      "INFO:BasicPromptGenerator:Prompt generated\n",
      "DEBUG:BasicPromptGenerator:Prompt content: Agent instructions\n",
      "\n",
      "System instructions\n",
      "\n",
      "\n",
      "DEBUG:BasicPromptGenerator:Prompt generation logged\n",
      "DEBUG:SymbolGraphProvider:Context retrieval start\n",
      "ERROR:SymbolGraphProvider:Target not found: sample_module.py\n",
      "DEBUG:SymbolGraphProvider:Context retrieval end\n",
      "DEBUG:BasicPromptGenerator:Prompt generation start\n",
      "DEBUG:SymbolGraphProvider:Context retrieval start\n",
      "ERROR:SymbolGraphProvider:Target not found: sample_module.py\n",
      "DEBUG:SymbolGraphProvider:Context retrieval end\n",
      "DEBUG:BasicPromptGenerator:Raw context: {}\n",
      "INFO:BasicPromptGenerator:Prompt generated\n",
      "DEBUG:BasicPromptGenerator:Prompt content: Agent instructions\n",
      "\n",
      "System instructions\n",
      "\n",
      "\n",
      "DEBUG:BasicPromptGenerator:Prompt generation logged\n"
     ]
    },
    {
     "name": "stdout",
     "output_type": "stream",
     "text": [
      "DummyContextProvider: Agent instructions\n",
      "\n",
      "System instructions\n",
      "\n",
      "\n",
      "SymbolGraphProvider: Agent instructions\n",
      "\n",
      "System instructions\n",
      "\n",
      "\n"
     ]
    }
   ],
   "source": [
    "dummy = ContextProviderFactory.create(\"dummy\")\n",
    "try:\n",
    "    symbol = ContextProviderFactory.create(\n",
    "        \"symbol_graph\", target=Path(\"sample_module.py\")\n",
    "    )\n",
    "except Exception as e:\n",
    "    print(\"SymbolGraphProvider creation failed:\", e)\n",
    "    symbol = None\n",
    "\n",
    "providers = [p for p in (dummy, symbol) if p is not None]\n",
    "\n",
    "experiment_id = \"exp001\"\n",
    "round_number = 1\n",
    "\n",
    "for p in providers:\n",
    "    try:\n",
    "        _ = p.get_context()\n",
    "        result = PromptGeneratorFactory.create(\n",
    "            \"basic\", context_provider=p\n",
    "        ).generate_prompt(agent_config, system_config, experiment_id, round_number)\n",
    "        print(f\"{p.__class__.__name__}: {result}\")\n",
    "    except Exception as e:\n",
    "        print(p.__class__.__name__, \"error:\", e)"
   ]
  },
  {
   "cell_type": "markdown",
   "id": "8220f04d",
   "metadata": {},
   "source": [
    "### Tool Providers\n",
    "\n",
    "Tool providers execute external utilities used in the prompting workflow. Errors for invalid providers are explicitly shown."
   ]
  },
  {
   "cell_type": "code",
   "execution_count": 8,
   "id": "f453f783",
   "metadata": {},
   "outputs": [
    {
     "name": "stderr",
     "output_type": "stream",
     "text": [
      "DEBUG:BlackToolProvider:Tool run start\n",
      "DEBUG:BlackToolProvider:Tool run end\n"
     ]
    },
    {
     "name": "stdout",
     "output_type": "stream",
     "text": [
      "Black return: 0\n",
      "Expected tool error: 'Tool provider nonexistent not registered'\n"
     ]
    }
   ],
   "source": [
    "try:\n",
    "    black = ToolProviderFactory.create(\"black\")\n",
    "    tmp = Path(\"tmp.py\")\n",
    "    tmp.write_text(\"x=1\")\n",
    "    result = black.run(str(tmp))\n",
    "    print(\"Black return:\", result.returncode)\n",
    "except Exception as e:\n",
    "    print(\"Black failed:\", e)\n",
    "finally:\n",
    "    tmp.unlink(missing_ok=True)\n",
    "\n",
    "try:\n",
    "    ToolProviderFactory.create(\"nonexistent\")\n",
    "except Exception as e:\n",
    "    print(\"Expected tool error:\", e)"
   ]
  },
  {
   "cell_type": "markdown",
   "id": "cb116620",
   "metadata": {},
   "source": [
    "### Logging Verification\n",
    "\n",
    "Logging operations should succeed under normal conditions and raise errors on misuse."
   ]
  },
  {
   "cell_type": "code",
   "execution_count": 10,
   "id": "c7ab6a7e",
   "metadata": {},
   "outputs": [
    {
     "name": "stdout",
     "output_type": "stream",
     "text": [
      "State logged successfully\n",
      "Expected logging error: Expected StateLog, got <class 'object'>\n"
     ]
    }
   ],
   "source": [
    "logger = LoggingProvider(\":memory:\")\n",
    "from app.enums.logging_enums import LogType\n",
    "from app.utilities.metadata.logging.log_schemas import StateLog\n",
    "from datetime import datetime, timezone\n",
    "\n",
    "try:\n",
    "    state_log = StateLog(\n",
    "        experiment_id=\"exp\",\n",
    "        system=\"test_system\",  # <-- explicitly required\n",
    "        round=0,\n",
    "        state=\"test\",\n",
    "        action=\"test_action\",  # <-- explicitly required\n",
    "        timestamp=datetime.now(timezone.utc),\n",
    "    )\n",
    "    logger.log_state(state_log)\n",
    "    print(\"State logged successfully\")\n",
    "except Exception as e:\n",
    "    print(\"Logging failed:\", e)\n",
    "\n",
    "try:\n",
    "    logger.write(LogType.STATE, object())\n",
    "except Exception as e:\n",
    "    print(\"Expected logging error:\", e)"
   ]
  }
 ],
 "metadata": {
  "kernelspec": {
   "display_name": ".venv",
   "language": "python",
   "name": "python3"
  },
  "language_info": {
   "codemirror_mode": {
    "name": "ipython",
    "version": 3
   },
   "file_extension": ".py",
   "mimetype": "text/x-python",
   "name": "python",
   "nbconvert_exporter": "python",
   "pygments_lexer": "ipython3",
   "version": "3.12.6"
  }
 },
 "nbformat": 4,
 "nbformat_minor": 5
}
