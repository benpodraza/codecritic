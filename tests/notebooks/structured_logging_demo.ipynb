{
 "cells": [
  {
   "cell_type": "markdown",
   "metadata": {},
   "source": [
    "# Structured Logging Demo"
   ]
  },
  {
   "cell_type": "code",
   "execution_count": 2,
   "id": "b62d5da4",
   "metadata": {},
   "outputs": [],
   "source": [
    "import sys\n",
    "from pathlib import Path\n",
    "\n",
    "PROJECT_ROOT = Path.cwd().parent.parent\n",
    "sys.path.insert(0, str(PROJECT_ROOT))"
   ]
  },
  {
   "cell_type": "code",
   "execution_count": 3,
   "id": "808f070b",
   "metadata": {},
   "outputs": [],
   "source": [
    "import sqlite3\n",
    "from importlib import import_module\n",
    "from app.factories.logging_provider import LoggingProvider\n",
    "from app.extensions.context_providers.dummy_context_provider import DummyContextProvider\n",
    "from app.extensions.tool_providers.dummy_tool_provider import DummyToolProvider\n",
    "from app.extensions.agents.dummy_agent import DummyAgent\n",
    "from app.extensions.experiment_provider import ExperimentProvider"
   ]
  },
  {
   "cell_type": "code",
   "execution_count": 4,
   "id": "ac6ea491",
   "metadata": {},
   "outputs": [],
   "source": [
    "from app.utilities.db import init_db\n",
    "import sqlite3\n",
    "from app.factories.logging_provider import LoggingProvider\n",
    "from app.extensions.context_providers import DummyContextProvider\n",
    "from app.extensions.tool_providers import DummyToolProvider\n",
    "from app.extensions.agents import DummyAgent\n",
    "from app.extensions.experiment_provider import ExperimentProvider\n",
    "\n",
    "# Connect to the in-memory database\n",
    "conn = sqlite3.connect(\":memory:\")\n",
    "\n",
    "# Initialize all required logging tables explicitly\n",
    "init_db(conn)\n",
    "\n",
    "# Pass the initialized connection to your logger\n",
    "logger = LoggingProvider(connection=conn)\n",
    "\n",
    "# Instantiate other components\n",
    "ctx = DummyContextProvider(logger=logger)\n",
    "tool = DummyToolProvider(logger=logger)\n",
    "agent = DummyAgent(logger=logger)\n",
    "\n",
    "# Now this will work without the OperationalError\n",
    "exp = ExperimentProvider(\n",
    "    \"demo\",\n",
    "    \"demo experiment\",\n",
    "    \"test\",\n",
    "    \"v1\",\n",
    "    1,\n",
    "    0.0,\n",
    "    \"engine\",\n",
    "    \"eval\",\n",
    "    \"1.0\",\n",
    "    logger=logger,\n",
    ")\n",
    "ctx.get_context(experiment_id=\"demo\", round=0)\n",
    "tool.run(experiment_id=\"demo\", round=0)\n",
    "agent.run(experiment_id=\"demo\", round=0)\n",
    "exp.complete(1.0, True, \"done\")"
   ]
  },
  {
   "cell_type": "code",
   "execution_count": 5,
   "id": "75fd0239",
   "metadata": {},
   "outputs": [
    {
     "name": "stdout",
     "output_type": "stream",
     "text": [
      "{'context_retrieval_log': 1, 'tool_invocation_log': 1, 'agent_action_log': 1, 'system_event_log': 0, 'experiment_log': 2}\n"
     ]
    }
   ],
   "source": [
    "cur = conn.cursor()\n",
    "tables = [\n",
    "    \"context_retrieval_log\",\n",
    "    \"tool_invocation_log\",\n",
    "    \"agent_action_log\",\n",
    "    \"system_event_log\",\n",
    "    \"experiment_log\",\n",
    "]\n",
    "counts = {t: cur.execute(f\"SELECT COUNT(*) FROM {t}\").fetchone()[0] for t in tables}\n",
    "print(counts)"
   ]
  }
 ],
 "metadata": {
  "kernelspec": {
   "display_name": ".venv",
   "language": "python",
   "name": "python3"
  },
  "language_info": {
   "codemirror_mode": {
    "name": "ipython",
    "version": 3
   },
   "file_extension": ".py",
   "mimetype": "text/x-python",
   "name": "python",
   "nbconvert_exporter": "python",
   "pygments_lexer": "ipython3",
   "version": "3.12.6"
  }
 },
 "nbformat": 4,
 "nbformat_minor": 5
}
