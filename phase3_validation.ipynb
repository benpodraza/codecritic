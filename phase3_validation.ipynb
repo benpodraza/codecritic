{
 "cells": [
  {
   "cell_type": "code",
   "execution_count": 7,
   "id": "9266994e",
   "metadata": {},
   "outputs": [
    {
     "name": "stdout",
     "output_type": "stream",
     "text": [
      "Requirement already satisfied: black in c:\\repos\\codecritic\\.venv\\lib\\site-packages (25.1.0)\n",
      "Requirement already satisfied: ruff in c:\\repos\\codecritic\\.venv\\lib\\site-packages (0.4.4)\n",
      "Requirement already satisfied: radon in c:\\repos\\codecritic\\.venv\\lib\\site-packages (6.0.1)\n",
      "Requirement already satisfied: click>=8.0.0 in c:\\repos\\codecritic\\.venv\\lib\\site-packages (from black) (8.2.0)\n",
      "Requirement already satisfied: mypy-extensions>=0.4.3 in c:\\repos\\codecritic\\.venv\\lib\\site-packages (from black) (1.1.0)\n",
      "Requirement already satisfied: packaging>=22.0 in c:\\repos\\codecritic\\.venv\\lib\\site-packages (from black) (25.0)\n",
      "Requirement already satisfied: pathspec>=0.9.0 in c:\\repos\\codecritic\\.venv\\lib\\site-packages (from black) (0.12.1)\n",
      "Requirement already satisfied: platformdirs>=2 in c:\\repos\\codecritic\\.venv\\lib\\site-packages (from black) (4.3.8)\n",
      "Requirement already satisfied: mando<0.8,>=0.6 in c:\\repos\\codecritic\\.venv\\lib\\site-packages (from radon) (0.7.1)\n",
      "Requirement already satisfied: colorama>=0.4.1 in c:\\repos\\codecritic\\.venv\\lib\\site-packages (from radon) (0.4.6)\n",
      "Requirement already satisfied: six in c:\\repos\\codecritic\\.venv\\lib\\site-packages (from mando<0.8,>=0.6->radon) (1.17.0)\n"
     ]
    }
   ],
   "source": [
    "import sys\n",
    "!{sys.executable} -m pip install black ruff radon\n"
   ]
  },
  {
   "cell_type": "code",
   "execution_count": 1,
   "metadata": {},
   "outputs": [
    {
     "name": "stdout",
     "output_type": "stream",
     "text": [
      "Generator Logs: [PromptLog(experiment_id='exp', round=0, system='system', agent_id='generator', agent_role='fixer', agent_engine=None, symbol='validation_sample.py', prompt='format code', response=None, attempt_number=0, agent_action_outcome='success', start=datetime.datetime(2025, 5, 17, 22, 15, 27, 698109), stop=datetime.datetime(2025, 5, 17, 22, 15, 27, 868065))]\n",
      "Evaluator Logs: [CodeQualityLog(experiment_id='exp', round=0, symbol='validation_sample.py', lines_of_code=1, cyclomatic_complexity=0.0, maintainability_index=0.0, lint_errors=0, timestamp=datetime.datetime(2025, 5, 17, 22, 15, 28, 131360))]\n"
     ]
    }
   ],
   "source": [
    "from importlib import import_module\n",
    "from app.factories.agent import AgentFactory\n",
    "\n",
    "import_module('app.extensions.agents')\n",
    "import_module('app.extensions.tool_providers')\n",
    "\n",
    "tmp = 'validation_sample.py'\n",
    "with open(tmp, 'w', encoding='utf-8') as f:\n",
    "    f.write('x=1')\n",
    "\n",
    "gen = AgentFactory.create('generator', target=tmp)\n",
    "gen.run()\n",
    "\n",
    "eval_agent = AgentFactory.create('evaluator', target=tmp)\n",
    "eval_agent.run()\n",
    "\n",
    "print(\"Generator Logs:\", gen.prompt_logs)\n",
    "print(\"Evaluator Logs:\", eval_agent.quality_logs)\n"
   ]
  }
 ],
 "metadata": {
  "kernelspec": {
   "display_name": ".venv",
   "language": "python",
   "name": "python3"
  },
  "language_info": {
   "codemirror_mode": {
    "name": "ipython",
    "version": 3
   },
   "file_extension": ".py",
   "mimetype": "text/x-python",
   "name": "python",
   "nbconvert_exporter": "python",
   "pygments_lexer": "ipython3",
   "version": "3.12.6"
  }
 },
 "nbformat": 4,
 "nbformat_minor": 5
}
