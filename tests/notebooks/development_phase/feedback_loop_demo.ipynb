{
 "cells": [
  {
   "cell_type": "markdown",
   "metadata": {},
   "source": [
    "## Feedback Loop Demo"
   ]
  },
  {
   "cell_type": "markdown",
   "metadata": {},
   "source": [
    "This notebook demonstrates how feedback influences scoring weights."
   ]
  },
  {
   "cell_type": "code",
   "execution_count": 1,
   "id": "a213eb1a",
   "metadata": {},
   "outputs": [
    {
     "data": {
      "text/plain": [
       "({'maintainability_index': 80.0, 'cyclomatic_complexity': 5.0, 'recommendation_quality': 1.0}, {'maintainability_index': 1.0, 'cyclomatic_complexity': 1.0, 'recommendation_quality': 1.0})"
      ]
     },
     "execution_count": 1,
     "metadata": {},
     "output_type": "execute_result"
    }
   ],
   "source": [
    "from app.extensions.scoring_models import AdaptiveScoringProvider\n",
    "from app.factories.logging_provider import CodeQualityLog, RecommendationLog\n",
    "from app.utilities.feedback import FeedbackRepository\n",
    "from app.utilities.metadata.logging.log_schemas import FeedbackLog\n",
    "\n",
    "logs = {\n",
    "    \"code_quality\": [\n",
    "        CodeQualityLog(\n",
    "            experiment_id=\"exp\",\n",
    "            round=0,\n",
    "            symbol=\"m\",\n",
    "            lines_of_code=10,\n",
    "            cyclomatic_complexity=5.0,\n",
    "            maintainability_index=80.0,\n",
    "            lint_errors=0,\n",
    "        )\n",
    "    ],\n",
    "    \"recommendation\": [\n",
    "        RecommendationLog(\n",
    "            experiment_id=\"exp\",\n",
    "            round=0,\n",
    "            symbol=\"m\",\n",
    "            file_path=\"m.py\",\n",
    "            line_start=0,\n",
    "            line_end=0,\n",
    "            recommendation=\"{}\",\n",
    "            context=\"ctx\",\n",
    "        )\n",
    "    ],\n",
    "}\n",
    "provider = AdaptiveScoringProvider()\n",
    "baseline = provider.score(logs)\n",
    "baseline_weights = provider.weights.copy()\n",
    "(baseline, baseline_weights)"
   ]
  },
  {
   "cell_type": "markdown",
   "id": "df247f3a",
   "metadata": {},
   "source": [
    "Add feedback stressing maintainability."
   ]
  },
  {
   "cell_type": "code",
   "execution_count": 2,
   "id": "ed1dc52b",
   "metadata": {},
   "outputs": [
    {
     "data": {
      "text/plain": [
       "({'maintainability_index': 88.0, 'cyclomatic_complexity': 5.0, 'recommendation_quality': 1.0}, {'maintainability_index': 1.1, 'cyclomatic_complexity': 1.0, 'recommendation_quality': 1.0})"
      ]
     },
     "execution_count": 2,
     "metadata": {},
     "output_type": "execute_result"
    }
   ],
   "source": [
    "FeedbackRepository.add_feedback(\n",
    "    FeedbackLog(\"exp\", 0, \"user\", \"increase maintainability\")\n",
    ")\n",
    "provider = AdaptiveScoringProvider()\n",
    "updated = provider.score(logs)\n",
    "updated_weights = provider.weights.copy()\n",
    "(updated, updated_weights)"
   ]
  },
  {
   "cell_type": "markdown",
   "metadata": {},
   "source": [
    "Notice how the maintainability weight increased after feedback."
   ]
  }
 ],
 "metadata": {
  "kernelspec": {
   "display_name": ".venv",
   "language": "python",
   "name": "python3"
  },
  "language_info": {
   "name": "python",
   "version": "3.12.6"
  }
 },
 "nbformat": 4,
 "nbformat_minor": 5
}
