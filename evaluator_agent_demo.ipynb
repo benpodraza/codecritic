{
 "cells": [
  {
   "cell_type": "markdown",
   "metadata": {},
   "source": [
    "## Evaluator Agent Demo"
   ]
  },
  {
   "cell_type": "markdown",
   "metadata": {},
   "source": [
    "This notebook demonstrates running the `EvaluatorAgent` on a small example file."
   ]
  },
  {
   "cell_type": "code",
   "execution_count": 2,
   "id": "9b2b0d81",
   "metadata": {},
   "outputs": [],
   "source": [
    "from importlib import import_module\n",
    "from pathlib import Path\n",
    "from app.factories.agent import AgentFactory\n",
    "from app.factories.logging_provider import LoggingProvider, LoggingMixin\n",
    "from app.factories.logging_provider import StateLog\n",
    "from app.utilities.snapshots.snapshot_writer import SnapshotWriter\n",
    "\n",
    "import_module(\"app.extensions.agents\")\n",
    "import_module(\"app.extensions.tool_providers\")\n",
    "\n",
    "demo = Path(\"demo_eval.py\")\n",
    "demo.write_text(\"def add(x, y):\\n    return x + y\\n\")\n",
    "logger = LoggingProvider(db_path=\":memory:\")\n",
    "writer = SnapshotWriter(root=\"demo_snaps\")\n",
    "agent = AgentFactory.create(\n",
    "    \"evaluator\", target=str(demo), logger=logger, snapshot_writer=writer\n",
    ")\n",
    "agent.run()\n",
    "metrics = agent.quality_logs[0]"
   ]
  },
  {
   "cell_type": "code",
   "execution_count": 3,
   "id": "6d0ed907",
   "metadata": {},
   "outputs": [
    {
     "name": "stdout",
     "output_type": "stream",
     "text": [
      "Cyclomatic Complexity: 1.0\n",
      "Maintainability Index: 88.5574946685516\n",
      "Lint Errors: 0\n"
     ]
    }
   ],
   "source": [
    "print(\"Cyclomatic Complexity:\", metrics.cyclomatic_complexity)\n",
    "print(\"Maintainability Index:\", metrics.maintainability_index)\n",
    "print(\"Lint Errors:\", metrics.lint_errors)"
   ]
  }
 ],
 "metadata": {
  "kernelspec": {
   "display_name": ".venv",
   "language": "python",
   "name": "python3"
  },
  "language_info": {
   "codemirror_mode": {
    "name": "ipython",
    "version": 3
   },
   "file_extension": ".py",
   "mimetype": "text/x-python",
   "name": "python",
   "nbconvert_exporter": "python",
   "pygments_lexer": "ipython3",
   "version": "3.12.6"
  }
 },
 "nbformat": 4,
 "nbformat_minor": 5
}
