{
  "cells": [
    {
      "cell_type": "code",
      "execution_count": 1,
      "metadata": {},
      "outputs": [
        {
          "ename": "KeyError",
          "evalue": "'System manager dummy not registered'",
          "output_type": "error",
          "traceback": [
            "\u001b[31m---------------------------------------------------------------------------\u001b[39m",
            "\u001b[31mKeyError\u001b[39m                                  Traceback (most recent call last)",
            "\u001b[36mCell\u001b[39m\u001b[36m \u001b[39m\u001b[32mIn[1]\u001b[39m\u001b[32m, line 11\u001b[39m\n\u001b[32m      8\u001b[39m import_module(\u001b[33m\"\u001b[39m\u001b[33mapp.extensions.agents\u001b[39m\u001b[33m\"\u001b[39m)\n\u001b[32m     10\u001b[39m agent = AgentFactory.create(\u001b[33m\"\u001b[39m\u001b[33mdummy\u001b[39m\u001b[33m\"\u001b[39m)\n\u001b[32m---> \u001b[39m\u001b[32m11\u001b[39m system_manager = \u001b[43mSystemManagerFactory\u001b[49m\u001b[43m.\u001b[49m\u001b[43mcreate\u001b[49m\u001b[43m(\u001b[49m\u001b[33;43m\"\u001b[39;49m\u001b[33;43mdummy\u001b[39;49m\u001b[33;43m\"\u001b[39;49m\u001b[43m)\u001b[49m\n\u001b[32m     12\u001b[39m state_manager = StateManagerFactory.create(\u001b[33m\"\u001b[39m\u001b[33mdummy\u001b[39m\u001b[33m\"\u001b[39m)\n\u001b[32m     13\u001b[39m prompt_gen = PromptGeneratorFactory.create(\u001b[33m\"\u001b[39m\u001b[33mdummy\u001b[39m\u001b[33m\"\u001b[39m)\n",
            "\u001b[36mFile \u001b[39m\u001b[32mc:\\Repos\\codecritic\\app\\factories\\system_manager.py:11\u001b[39m, in \u001b[36mSystemManagerFactory.create\u001b[39m\u001b[34m(name, **kwargs)\u001b[39m\n\u001b[32m      9\u001b[39m \u001b[38;5;28mcls\u001b[39m = SYSTEM_MANAGER_REGISTRY.get(name)\n\u001b[32m     10\u001b[39m \u001b[38;5;28;01mif\u001b[39;00m \u001b[38;5;28mcls\u001b[39m \u001b[38;5;129;01mis\u001b[39;00m \u001b[38;5;28;01mNone\u001b[39;00m:\n\u001b[32m---> \u001b[39m\u001b[32m11\u001b[39m     \u001b[38;5;28;01mraise\u001b[39;00m \u001b[38;5;167;01mKeyError\u001b[39;00m(\u001b[33mf\u001b[39m\u001b[33m\"\u001b[39m\u001b[33mSystem manager \u001b[39m\u001b[38;5;132;01m{\u001b[39;00mname\u001b[38;5;132;01m}\u001b[39;00m\u001b[33m not registered\u001b[39m\u001b[33m\"\u001b[39m)\n\u001b[32m     12\u001b[39m \u001b[38;5;28;01mreturn\u001b[39;00m \u001b[38;5;28mcls\u001b[39m(**kwargs)\n",
            "\u001b[31mKeyError\u001b[39m: 'System manager dummy not registered'"
          ]
        }
      ],
      "source": [
        "from importlib import import_module\n",
        "from app.factories.agent import AgentFactory\n",
        "from app.factories.system_manager import SystemManagerFactory\n",
        "from app.factories.state_manager import StateManagerFactory\n",
        "from app.factories.prompt_manager import PromptGeneratorFactory\n",
        "from app.factories.tool_provider import ToolProviderFactory\n",
        "from app.factories.scoring_provider import ScoringProviderFactory\n",
        "import_module(\"app.extensions.agents\")\n",
        "import_module(\"app.extensions.system_managers\")\n",
        "import_module(\"app.extensions.state_managers\")\n",
        "import_module(\"app.extensions.prompt_generators\")\n",
        "import_module(\"app.extensions.context_providers\")\n",
        "import_module(\"app.extensions.tool_providers\")\n",
        "import_module(\"app.extensions.scoring_models\")\n",
        "\n",
        "agent = AgentFactory.create(\"dummy\")\n",
        "system_manager = SystemManagerFactory.create(\"dummy\")\n",
        "state_manager = StateManagerFactory.create(\"dummy\")\n",
        "prompt_gen = PromptGeneratorFactory.create(\"dummy\")\n",
        "tool_provider = ToolProviderFactory.create(\"dummy\")\n",
        "scoring_provider = ScoringProviderFactory.create(\"dummy\")\n",
        "\n",
        "print(agent, system_manager, state_manager, prompt_gen.generate_prompt(), tool_provider.run(), scoring_provider.score())"
      ]
    }
  ],
  "metadata": {
    "kernelspec": {
      "display_name": ".venv",
      "language": "python",
      "name": "python3"
    },
    "language_info": {
      "codemirror_mode": {
        "name": "ipython",
        "version": 3
      },
      "file_extension": ".py",
      "mimetype": "text/x-python",
      "name": "python",
      "nbconvert_exporter": "python",
      "pygments_lexer": "ipython3",
      "version": "3.12.6"
    }
  },
  "nbformat": 4,
  "nbformat_minor": 5
}
