{
 "cells": [
  {
   "cell_type": "markdown",
   "metadata": {},
   "source": [
    "## Evaluator Agent Demo"
   ]
  },
  {
   "cell_type": "markdown",
   "metadata": {},
   "source": [
    "This notebook demonstrates running the `EvaluatorAgent` on a small example file."
   ]
  },
  {
   "cell_type": "code",
   "metadata": {},
   "execution_count": null,
   "source": [
    "from importlib import import_module\n",
    "from pathlib import Path\n",
    "from app.factories.agent import AgentFactory\n",
    "from app.factories.logging_provider import LoggingProvider\n",
    "from app.utilities.snapshots.snapshot_writer import SnapshotWriter\n",
    "\n",
    "import_module('app.extensions.agents')\n",
    "import_module('app.extensions.tool_providers')\n",
    "\n",
    "demo = Path('demo_eval.py')\n",
    "demo.write_text('def add(x, y):\\n    return x + y\\n')\n",
    "logger = LoggingProvider(db_path=':memory:')\n",
    "writer = SnapshotWriter(root='demo_snaps')\n",
    "agent = AgentFactory.create('evaluator', target=str(demo), logger=logger, snapshot_writer=writer)\n",
    "agent.run()\n",
    "metrics = agent.quality_logs[0]"
   ]
  },
  {
   "cell_type": "code",
   "metadata": {},
   "execution_count": null,
   "source": [
    "print('Cyclomatic Complexity:', metrics.cyclomatic_complexity)\n",
    "print('Maintainability Index:', metrics.maintainability_index)\n",
    "print('Lint Errors:', metrics.lint_errors)"
   ]
  }
 ],
 "metadata": {
  "kernelspec": {
   "display_name": "Python 3",
   "language": "python",
   "name": "python3"
  },
  "language_info": {
   "name": "python",
   "pygments_lexer": "ipython3"
  }
 },
 "nbformat": 4,
 "nbformat_minor": 5
}
