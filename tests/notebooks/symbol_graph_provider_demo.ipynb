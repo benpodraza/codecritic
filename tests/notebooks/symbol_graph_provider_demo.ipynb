{
 "cells": [
  {
   "cell_type": "markdown",
   "metadata": {},
   "source": [
    "# Symbol Graph Provider Demo"
   ]
  },
  {
   "cell_type": "markdown",
   "metadata": {},
   "source": [
    "This notebook demonstrates construction and visualization of symbol graphs." 
   ]
  },
  {
   "cell_type": "code",
   "execution_count": null,
   "metadata": {},
   "outputs": [],
   "source": [
    "from app.extensions.context_providers.symbol_graph_provider import SymbolGraphProvider\n",
    "\n",
    "provider = SymbolGraphProvider('sample_module.py')\n",
    "ctx = provider.get_context()\n",
    "graph = ctx['symbol_graph']\n",
    "graph.keys()"
   ]
  },
  {
   "cell_type": "markdown",
   "metadata": {},
   "source": [
    "Visualize the graph using `networkx`."
   ]
  },
  {
   "cell_type": "code",
   "execution_count": null,
   "metadata": {},
   "outputs": [],
   "source": [
    "import networkx as nx\n",
    "import matplotlib.pyplot as plt\n",
    "\n",
    "G = nx.DiGraph()\n",
    "for name, info in graph.items():\n",
    "    G.add_node(name, type=info['type'])\n",
    "    for callee in info.get('calls', []):\n",
    "        G.add_edge(name, callee)\n",
    "\n",
    "nx.draw_networkx(G)\n",
    "plt.show()"
   ]
  }
 ],
 "metadata": {
  "kernelspec": {
   "display_name": "python3",
   "language": "python",
   "name": "python3"
  },
  "language_info": {
   "name": "python",
   "version": "3.11"
  }
 },
 "nbformat": 4,
 "nbformat_minor": 5
}
