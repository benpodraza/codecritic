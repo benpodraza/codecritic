{
 "cells": [
  {
   "cell_type": "markdown",
   "metadata": {},
   "source": [
    "## Patch Agent Demo"
   ]
  },
  {
   "cell_type": "markdown",
   "metadata": {},
   "source": [
    "This notebook demonstrates applying mediator recommendations with the `PatchAgent`."
   ]
  },
  {
   "cell_type": "code",
   "execution_count": 1,
   "id": "cc283c67",
   "metadata": {},
   "outputs": [],
   "source": [
    "from importlib import import_module\n",
    "from pathlib import Path\n",
    "import json\n",
    "import sqlite3\n",
    "\n",
    "from app.factories.agent import AgentFactory\n",
    "from app.factories.logging_provider import LoggingProvider, ConversationLog\n",
    "from app.utilities.schema import initialize_database\n",
    "from app.utilities.snapshots.snapshot_writer import SnapshotWriter\n",
    "from app.enums.agent_enums import AgentRole\n",
    "from app.utilities import db\n",
    "\n",
    "# Explicitly create a shared in-memory SQLite connection\n",
    "shared_conn = sqlite3.connect(\":memory:\", check_same_thread=False)\n",
    "\n",
    "# Assign your shared connection explicitly to the db module\n",
    "db._CONN = shared_conn\n",
    "db.DB_PATH = \":memory:\"\n",
    "\n",
    "# Initialize the schema on the shared connection\n",
    "initialize_database(reset=True)\n",
    "\n",
    "# Import necessary extensions\n",
    "import_module(\"app.extensions.agents\")\n",
    "import_module(\"app.extensions.tool_providers\")\n",
    "\n",
    "demo = Path(\"demo_patch.py\")\n",
    "demo.write_text(\"value = 1\\n\")\n",
    "\n",
    "# Now explicitly pass the SAME shared SQLite connection to the LoggingProvider\n",
    "logger = LoggingProvider(db_path=\":memory:\", connection=shared_conn)\n",
    "writer = SnapshotWriter(root=\"demo_snap\")\n",
    "\n",
    "# Instantiate patch agent\n",
    "agent = AgentFactory.create(\n",
    "    \"patch\", target=str(demo), logger=logger, snapshot_writer=writer\n",
    ")\n",
    "\n",
    "# Create mediator recommendation\n",
    "conv = ConversationLog(\n",
    "    experiment_id=\"exp\",\n",
    "    round=0,\n",
    "    agent_role=AgentRole.MEDIATOR,\n",
    "    target=str(demo),\n",
    "    content=json.dumps([{\"op\": \"replace\", \"from\": \"1\", \"to\": \"2\"}]),\n",
    "    originating_agent=\"mediator\",\n",
    "    intervention=True,\n",
    ")\n",
    "\n",
    "# Run the agent with recommendations\n",
    "agent.run(recommendations=[conv])\n",
    "\n",
    "# Retrieve metrics\n",
    "metrics = agent.quality_logs[0]"
   ]
  },
  {
   "cell_type": "code",
   "execution_count": null,
   "metadata": {},
   "outputs": [
    {
     "name": "stdout",
     "output_type": "stream",
     "text": [
      "Cyclomatic Complexity: 1.0\n",
      "Maintainability Index: 90.0\n"
     ]
    }
   ],
   "source": [
    "print(f\"Cyclomatic Complexity: {metrics.cyclomatic_complexity}\")\n",
    "print(f\"Maintainability Index: {metrics.maintainability_index}\")"
   ]
  }
 ],
 "metadata": {
  "kernelspec": {
   "display_name": ".venv",
   "language": "python",
   "name": "python3"
  },
  "language_info": {
   "codemirror_mode": {
    "name": "ipython",
    "version": 3
   },
   "file_extension": ".py",
   "mimetype": "text/x-python",
   "name": "python",
   "nbconvert_exporter": "python",
   "pygments_lexer": "ipython3",
   "version": "3.12.6"
  }
 },
 "nbformat": 4,
 "nbformat_minor": 5
}
