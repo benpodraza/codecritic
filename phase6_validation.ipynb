{
 "cells": [
  {
   "cell_type": "code",
   "execution_count": 2,
   "id": "phase6",
   "metadata": {},
   "outputs": [
    {
     "data": {
      "application/vnd.microsoft.datawrangler.viewer.v0+json": {
       "columns": [
        {
         "name": "index",
         "rawType": "int64",
         "type": "integer"
        },
        {
         "name": "experiment_id",
         "rawType": "object",
         "type": "string"
        },
        {
         "name": "system",
         "rawType": "object",
         "type": "string"
        },
        {
         "name": "round",
         "rawType": "int64",
         "type": "integer"
        },
        {
         "name": "state",
         "rawType": "object",
         "type": "string"
        },
        {
         "name": "action",
         "rawType": "object",
         "type": "string"
        },
        {
         "name": "score",
         "rawType": "object",
         "type": "unknown"
        },
        {
         "name": "details",
         "rawType": "object",
         "type": "unknown"
        },
        {
         "name": "timestamp",
         "rawType": "object",
         "type": "string"
        }
       ],
       "conversionMethod": "pd.DataFrame",
       "ref": "a79e8a75-cec8-41a6-b8af-1815009e604e",
       "rows": [
        [
         "0",
         "exp",
         "system",
         "0",
         "generate",
         "run",
         null,
         null,
         "2025-05-18T01:09:26.843881"
        ],
        [
         "1",
         "exp",
         "system",
         "0",
         "discriminate",
         "run",
         null,
         null,
         "2025-05-18T01:09:27.011288"
        ],
        [
         "2",
         "exp",
         "system",
         "0",
         "mediate",
         "run",
         null,
         null,
         "2025-05-18T01:09:28.194135"
        ],
        [
         "3",
         "exp",
         "system",
         "0",
         "patchor",
         "run",
         null,
         null,
         "2025-05-18T01:09:28.194135"
        ],
        [
         "4",
         "exp",
         "system",
         "0",
         "recommender",
         "run",
         null,
         null,
         "2025-05-18T01:09:28.194135"
        ]
       ],
       "shape": {
        "columns": 8,
        "rows": 5
       }
      },
      "text/html": [
       "<div>\n",
       "<style scoped>\n",
       "    .dataframe tbody tr th:only-of-type {\n",
       "        vertical-align: middle;\n",
       "    }\n",
       "\n",
       "    .dataframe tbody tr th {\n",
       "        vertical-align: top;\n",
       "    }\n",
       "\n",
       "    .dataframe thead th {\n",
       "        text-align: right;\n",
       "    }\n",
       "</style>\n",
       "<table border=\"1\" class=\"dataframe\">\n",
       "  <thead>\n",
       "    <tr style=\"text-align: right;\">\n",
       "      <th></th>\n",
       "      <th>experiment_id</th>\n",
       "      <th>system</th>\n",
       "      <th>round</th>\n",
       "      <th>state</th>\n",
       "      <th>action</th>\n",
       "      <th>score</th>\n",
       "      <th>details</th>\n",
       "      <th>timestamp</th>\n",
       "    </tr>\n",
       "  </thead>\n",
       "  <tbody>\n",
       "    <tr>\n",
       "      <th>0</th>\n",
       "      <td>exp</td>\n",
       "      <td>system</td>\n",
       "      <td>0</td>\n",
       "      <td>generate</td>\n",
       "      <td>run</td>\n",
       "      <td>None</td>\n",
       "      <td>None</td>\n",
       "      <td>2025-05-18T01:09:26.843881</td>\n",
       "    </tr>\n",
       "    <tr>\n",
       "      <th>1</th>\n",
       "      <td>exp</td>\n",
       "      <td>system</td>\n",
       "      <td>0</td>\n",
       "      <td>discriminate</td>\n",
       "      <td>run</td>\n",
       "      <td>None</td>\n",
       "      <td>None</td>\n",
       "      <td>2025-05-18T01:09:27.011288</td>\n",
       "    </tr>\n",
       "    <tr>\n",
       "      <th>2</th>\n",
       "      <td>exp</td>\n",
       "      <td>system</td>\n",
       "      <td>0</td>\n",
       "      <td>mediate</td>\n",
       "      <td>run</td>\n",
       "      <td>None</td>\n",
       "      <td>None</td>\n",
       "      <td>2025-05-18T01:09:28.194135</td>\n",
       "    </tr>\n",
       "    <tr>\n",
       "      <th>3</th>\n",
       "      <td>exp</td>\n",
       "      <td>system</td>\n",
       "      <td>0</td>\n",
       "      <td>patchor</td>\n",
       "      <td>run</td>\n",
       "      <td>None</td>\n",
       "      <td>None</td>\n",
       "      <td>2025-05-18T01:09:28.194135</td>\n",
       "    </tr>\n",
       "    <tr>\n",
       "      <th>4</th>\n",
       "      <td>exp</td>\n",
       "      <td>system</td>\n",
       "      <td>0</td>\n",
       "      <td>recommender</td>\n",
       "      <td>run</td>\n",
       "      <td>None</td>\n",
       "      <td>None</td>\n",
       "      <td>2025-05-18T01:09:28.194135</td>\n",
       "    </tr>\n",
       "  </tbody>\n",
       "</table>\n",
       "</div>"
      ],
      "text/plain": [
       "  experiment_id  system  round         state action score details  \\\n",
       "0           exp  system      0      generate    run  None    None   \n",
       "1           exp  system      0  discriminate    run  None    None   \n",
       "2           exp  system      0       mediate    run  None    None   \n",
       "3           exp  system      0       patchor    run  None    None   \n",
       "4           exp  system      0   recommender    run  None    None   \n",
       "\n",
       "                    timestamp  \n",
       "0  2025-05-18T01:09:26.843881  \n",
       "1  2025-05-18T01:09:27.011288  \n",
       "2  2025-05-18T01:09:28.194135  \n",
       "3  2025-05-18T01:09:28.194135  \n",
       "4  2025-05-18T01:09:28.194135  "
      ]
     },
     "metadata": {},
     "output_type": "display_data"
    },
    {
     "data": {
      "application/vnd.microsoft.datawrangler.viewer.v0+json": {
       "columns": [
        {
         "name": "index",
         "rawType": "int64",
         "type": "integer"
        },
        {
         "name": "experiment_id",
         "rawType": "object",
         "type": "string"
        },
        {
         "name": "round",
         "rawType": "int64",
         "type": "integer"
        },
        {
         "name": "system",
         "rawType": "object",
         "type": "string"
        },
        {
         "name": "agent_id",
         "rawType": "object",
         "type": "string"
        },
        {
         "name": "agent_role",
         "rawType": "object",
         "type": "string"
        },
        {
         "name": "agent_engine",
         "rawType": "object",
         "type": "unknown"
        },
        {
         "name": "symbol",
         "rawType": "object",
         "type": "string"
        },
        {
         "name": "prompt",
         "rawType": "object",
         "type": "string"
        },
        {
         "name": "response",
         "rawType": "object",
         "type": "unknown"
        },
        {
         "name": "attempt_number",
         "rawType": "int64",
         "type": "integer"
        },
        {
         "name": "agent_action_outcome",
         "rawType": "object",
         "type": "string"
        },
        {
         "name": "start",
         "rawType": "object",
         "type": "string"
        },
        {
         "name": "stop",
         "rawType": "object",
         "type": "string"
        }
       ],
       "conversionMethod": "pd.DataFrame",
       "ref": "2ad02ee9-5e26-4549-ad30-df220d7d53cf",
       "rows": [
        [
         "0",
         "exp",
         "0",
         "system",
         "generator",
         "fixer",
         null,
         "sample_module.py",
         "format code",
         null,
         "0",
         "success",
         "2025-05-18T01:09:26.843881",
         "2025-05-18T01:09:27.011288"
        ]
       ],
       "shape": {
        "columns": 13,
        "rows": 1
       }
      },
      "text/html": [
       "<div>\n",
       "<style scoped>\n",
       "    .dataframe tbody tr th:only-of-type {\n",
       "        vertical-align: middle;\n",
       "    }\n",
       "\n",
       "    .dataframe tbody tr th {\n",
       "        vertical-align: top;\n",
       "    }\n",
       "\n",
       "    .dataframe thead th {\n",
       "        text-align: right;\n",
       "    }\n",
       "</style>\n",
       "<table border=\"1\" class=\"dataframe\">\n",
       "  <thead>\n",
       "    <tr style=\"text-align: right;\">\n",
       "      <th></th>\n",
       "      <th>experiment_id</th>\n",
       "      <th>round</th>\n",
       "      <th>system</th>\n",
       "      <th>agent_id</th>\n",
       "      <th>agent_role</th>\n",
       "      <th>agent_engine</th>\n",
       "      <th>symbol</th>\n",
       "      <th>prompt</th>\n",
       "      <th>response</th>\n",
       "      <th>attempt_number</th>\n",
       "      <th>agent_action_outcome</th>\n",
       "      <th>start</th>\n",
       "      <th>stop</th>\n",
       "    </tr>\n",
       "  </thead>\n",
       "  <tbody>\n",
       "    <tr>\n",
       "      <th>0</th>\n",
       "      <td>exp</td>\n",
       "      <td>0</td>\n",
       "      <td>system</td>\n",
       "      <td>generator</td>\n",
       "      <td>fixer</td>\n",
       "      <td>None</td>\n",
       "      <td>sample_module.py</td>\n",
       "      <td>format code</td>\n",
       "      <td>None</td>\n",
       "      <td>0</td>\n",
       "      <td>success</td>\n",
       "      <td>2025-05-18T01:09:26.843881</td>\n",
       "      <td>2025-05-18T01:09:27.011288</td>\n",
       "    </tr>\n",
       "  </tbody>\n",
       "</table>\n",
       "</div>"
      ],
      "text/plain": [
       "  experiment_id  round  system   agent_id agent_role agent_engine  \\\n",
       "0           exp      0  system  generator      fixer         None   \n",
       "\n",
       "             symbol       prompt response  attempt_number  \\\n",
       "0  sample_module.py  format code     None               0   \n",
       "\n",
       "  agent_action_outcome                       start                        stop  \n",
       "0              success  2025-05-18T01:09:26.843881  2025-05-18T01:09:27.011288  "
      ]
     },
     "metadata": {},
     "output_type": "display_data"
    },
    {
     "data": {
      "application/vnd.microsoft.datawrangler.viewer.v0+json": {
       "columns": [
        {
         "name": "index",
         "rawType": "int64",
         "type": "integer"
        },
        {
         "name": "experiment_id",
         "rawType": "object",
         "type": "string"
        },
        {
         "name": "round",
         "rawType": "int64",
         "type": "integer"
        },
        {
         "name": "metric",
         "rawType": "object",
         "type": "string"
        },
        {
         "name": "value",
         "rawType": "float64",
         "type": "float"
        },
        {
         "name": "timestamp",
         "rawType": "object",
         "type": "string"
        }
       ],
       "conversionMethod": "pd.DataFrame",
       "ref": "bd24cfbf-577f-42cc-8785-09a4a84b326a",
       "rows": [
        [
         "0",
         "exp",
         "0",
         "bug_fix_success_rate",
         "0.0",
         "2025-05-18T01:09:28.204725"
        ],
        [
         "1",
         "exp",
         "0",
         "functional_correctness",
         "0.0",
         "2025-05-18T01:09:28.204725"
        ],
        [
         "2",
         "exp",
         "0",
         "avg_test_pass_rate",
         "0.0",
         "2025-05-18T01:09:28.204725"
        ],
        [
         "3",
         "exp",
         "0",
         "maintainability_index",
         "0.0",
         "2025-05-18T01:09:28.204725"
        ],
        [
         "4",
         "exp",
         "0",
         "cyclomatic_complexity",
         "0.0",
         "2025-05-18T01:09:28.204725"
        ],
        [
         "5",
         "exp",
         "0",
         "linting_compliance_rate",
         "1.0",
         "2025-05-18T01:09:28.204725"
        ],
        [
         "6",
         "exp",
         "0",
         "iterations_to_convergence",
         "1.0",
         "2025-05-18T01:09:28.204725"
        ],
        [
         "7",
         "exp",
         "0",
         "intervention_frequency",
         "0.0",
         "2025-05-18T01:09:28.204725"
        ],
        [
         "8",
         "exp",
         "0",
         "agent_role_success_rate",
         "1.0",
         "2025-05-18T01:09:28.204725"
        ],
        [
         "9",
         "exp",
         "0",
         "retry_success_rate",
         "0.0",
         "2025-05-18T01:09:28.204725"
        ],
        [
         "10",
         "exp",
         "0",
         "mediation_success_rate",
         "0.0",
         "2025-05-18T01:09:28.204725"
        ]
       ],
       "shape": {
        "columns": 5,
        "rows": 11
       }
      },
      "text/html": [
       "<div>\n",
       "<style scoped>\n",
       "    .dataframe tbody tr th:only-of-type {\n",
       "        vertical-align: middle;\n",
       "    }\n",
       "\n",
       "    .dataframe tbody tr th {\n",
       "        vertical-align: top;\n",
       "    }\n",
       "\n",
       "    .dataframe thead th {\n",
       "        text-align: right;\n",
       "    }\n",
       "</style>\n",
       "<table border=\"1\" class=\"dataframe\">\n",
       "  <thead>\n",
       "    <tr style=\"text-align: right;\">\n",
       "      <th></th>\n",
       "      <th>experiment_id</th>\n",
       "      <th>round</th>\n",
       "      <th>metric</th>\n",
       "      <th>value</th>\n",
       "      <th>timestamp</th>\n",
       "    </tr>\n",
       "  </thead>\n",
       "  <tbody>\n",
       "    <tr>\n",
       "      <th>0</th>\n",
       "      <td>exp</td>\n",
       "      <td>0</td>\n",
       "      <td>bug_fix_success_rate</td>\n",
       "      <td>0.0</td>\n",
       "      <td>2025-05-18T01:09:28.204725</td>\n",
       "    </tr>\n",
       "    <tr>\n",
       "      <th>1</th>\n",
       "      <td>exp</td>\n",
       "      <td>0</td>\n",
       "      <td>functional_correctness</td>\n",
       "      <td>0.0</td>\n",
       "      <td>2025-05-18T01:09:28.204725</td>\n",
       "    </tr>\n",
       "    <tr>\n",
       "      <th>2</th>\n",
       "      <td>exp</td>\n",
       "      <td>0</td>\n",
       "      <td>avg_test_pass_rate</td>\n",
       "      <td>0.0</td>\n",
       "      <td>2025-05-18T01:09:28.204725</td>\n",
       "    </tr>\n",
       "    <tr>\n",
       "      <th>3</th>\n",
       "      <td>exp</td>\n",
       "      <td>0</td>\n",
       "      <td>maintainability_index</td>\n",
       "      <td>0.0</td>\n",
       "      <td>2025-05-18T01:09:28.204725</td>\n",
       "    </tr>\n",
       "    <tr>\n",
       "      <th>4</th>\n",
       "      <td>exp</td>\n",
       "      <td>0</td>\n",
       "      <td>cyclomatic_complexity</td>\n",
       "      <td>0.0</td>\n",
       "      <td>2025-05-18T01:09:28.204725</td>\n",
       "    </tr>\n",
       "    <tr>\n",
       "      <th>5</th>\n",
       "      <td>exp</td>\n",
       "      <td>0</td>\n",
       "      <td>linting_compliance_rate</td>\n",
       "      <td>1.0</td>\n",
       "      <td>2025-05-18T01:09:28.204725</td>\n",
       "    </tr>\n",
       "    <tr>\n",
       "      <th>6</th>\n",
       "      <td>exp</td>\n",
       "      <td>0</td>\n",
       "      <td>iterations_to_convergence</td>\n",
       "      <td>1.0</td>\n",
       "      <td>2025-05-18T01:09:28.204725</td>\n",
       "    </tr>\n",
       "    <tr>\n",
       "      <th>7</th>\n",
       "      <td>exp</td>\n",
       "      <td>0</td>\n",
       "      <td>intervention_frequency</td>\n",
       "      <td>0.0</td>\n",
       "      <td>2025-05-18T01:09:28.204725</td>\n",
       "    </tr>\n",
       "    <tr>\n",
       "      <th>8</th>\n",
       "      <td>exp</td>\n",
       "      <td>0</td>\n",
       "      <td>agent_role_success_rate</td>\n",
       "      <td>1.0</td>\n",
       "      <td>2025-05-18T01:09:28.204725</td>\n",
       "    </tr>\n",
       "    <tr>\n",
       "      <th>9</th>\n",
       "      <td>exp</td>\n",
       "      <td>0</td>\n",
       "      <td>retry_success_rate</td>\n",
       "      <td>0.0</td>\n",
       "      <td>2025-05-18T01:09:28.204725</td>\n",
       "    </tr>\n",
       "    <tr>\n",
       "      <th>10</th>\n",
       "      <td>exp</td>\n",
       "      <td>0</td>\n",
       "      <td>mediation_success_rate</td>\n",
       "      <td>0.0</td>\n",
       "      <td>2025-05-18T01:09:28.204725</td>\n",
       "    </tr>\n",
       "  </tbody>\n",
       "</table>\n",
       "</div>"
      ],
      "text/plain": [
       "   experiment_id  round                     metric  value  \\\n",
       "0            exp      0       bug_fix_success_rate    0.0   \n",
       "1            exp      0     functional_correctness    0.0   \n",
       "2            exp      0         avg_test_pass_rate    0.0   \n",
       "3            exp      0      maintainability_index    0.0   \n",
       "4            exp      0      cyclomatic_complexity    0.0   \n",
       "5            exp      0    linting_compliance_rate    1.0   \n",
       "6            exp      0  iterations_to_convergence    1.0   \n",
       "7            exp      0     intervention_frequency    0.0   \n",
       "8            exp      0    agent_role_success_rate    1.0   \n",
       "9            exp      0         retry_success_rate    0.0   \n",
       "10           exp      0     mediation_success_rate    0.0   \n",
       "\n",
       "                     timestamp  \n",
       "0   2025-05-18T01:09:28.204725  \n",
       "1   2025-05-18T01:09:28.204725  \n",
       "2   2025-05-18T01:09:28.204725  \n",
       "3   2025-05-18T01:09:28.204725  \n",
       "4   2025-05-18T01:09:28.204725  \n",
       "5   2025-05-18T01:09:28.204725  \n",
       "6   2025-05-18T01:09:28.204725  \n",
       "7   2025-05-18T01:09:28.204725  \n",
       "8   2025-05-18T01:09:28.204725  \n",
       "9   2025-05-18T01:09:28.204725  \n",
       "10  2025-05-18T01:09:28.204725  "
      ]
     },
     "metadata": {},
     "output_type": "display_data"
    },
    {
     "name": "stdout",
     "output_type": "stream",
     "text": [
      "{'bug_fix_success_rate': 0.0, 'functional_correctness': 0.0, 'avg_test_pass_rate': 0.0, 'maintainability_index': 0.0, 'cyclomatic_complexity': 0.0, 'linting_compliance_rate': 1.0, 'iterations_to_convergence': 1, 'intervention_frequency': 0.0, 'agent_role_success_rate': 1.0, 'retry_success_rate': 0.0, 'mediation_success_rate': 0.0}\n"
     ]
    }
   ],
   "source": [
    "from importlib import import_module\n",
    "import pandas as pd\n",
    "from app.abstract_classes.experiment import Experiment\n",
    "from app.factories.experiment_config_provider import ExperimentConfigProvider\n",
    "from app.utilities import db\n",
    "\n",
    "import_module(\"app.extensions.agents\")\n",
    "import_module(\"app.extensions.tool_providers\")\n",
    "import_module(\"app.extensions.context_providers\")\n",
    "import_module(\"app.extensions.prompt_generators\")\n",
    "import_module(\"app.extensions.state_managers\")\n",
    "import_module(\"app.extensions.system_managers\")\n",
    "import_module(\"app.extensions.scoring_models\")\n",
    "\n",
    "ExperimentConfigProvider.register(\n",
    "    1, {\"system_manager_id\": \"system\", \"scoring_model_id\": \"basic\"}\n",
    ")\n",
    "\n",
    "exp = Experiment(config_id=1)\n",
    "metrics = exp.run()\n",
    "\n",
    "conn = db.get_connection()\n",
    "state_df = pd.read_sql_query(\"SELECT * FROM state_log\", conn)\n",
    "prompt_df = pd.read_sql_query(\"SELECT * FROM prompt_log\", conn)\n",
    "score_df = pd.read_sql_query(\"SELECT * FROM scoring_log\", conn)\n",
    "conn.close()\n",
    "\n",
    "display(state_df)\n",
    "display(prompt_df)\n",
    "display(score_df)\n",
    "print(metrics)"
   ]
  }
 ],
 "metadata": {
  "kernelspec": {
   "display_name": ".venv",
   "language": "python",
   "name": "python3"
  },
  "language_info": {
   "codemirror_mode": {
    "name": "ipython",
    "version": 3
   },
   "file_extension": ".py",
   "mimetype": "text/x-python",
   "name": "python",
   "nbconvert_exporter": "python",
   "pygments_lexer": "ipython3",
   "version": "3.12.6"
  }
 },
 "nbformat": 4,
 "nbformat_minor": 5
}
