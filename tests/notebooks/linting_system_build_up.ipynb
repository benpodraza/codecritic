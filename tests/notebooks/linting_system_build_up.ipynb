{
 "cells": [
  {
   "cell_type": "markdown",
   "metadata": {},
   "source": [
    "# Notebook: Linting and Static Analysis Test Suite\n",
    "\n",
    "This notebook executes targeted tests for Python linting, formatting, static type checking, and complexity analysis tools. Specifically, it validates integration and functionality of:\n",
    "\n",
    "- **Black** (auto-formatting)\n",
    "- **Ruff** (linting and style checking)\n",
    "- **Mypy** (static type checking)\n",
    "- **Radon** (complexity analysis)\n",
    "\n",
    "These tests confirm the tools' abilities to detect, report, and correct common Python code quality issues. Within the overall system, this notebook supports automated quality control processes, ensuring consistent code readability, correctness, and maintainability for both human developers and AI agents.\n"
   ]
  },
  {
   "cell_type": "markdown",
   "id": "d5cb0f48",
   "metadata": {},
   "source": [
    "### Configuring Project Path\n",
    "\n",
    "This cell ensures the notebook can locate the project's modules by adding the project root directory to Python’s import path (`sys.path`). This setup is required for relative imports from the main application (`app`) to work correctly within the notebook environment.\n"
   ]
  },
  {
   "cell_type": "code",
   "execution_count": null,
   "id": "bb7686d6",
   "metadata": {},
   "outputs": [],
   "source": [
    "import sys\n",
    "from pathlib import Path\n",
    "\n",
    "PROJECT_ROOT = Path.cwd().parent.parent \n",
    "sys.path.insert(0, str(PROJECT_ROOT))\n"
   ]
  },
  {
   "cell_type": "markdown",
   "id": "b2299976",
   "metadata": {},
   "source": [
    "### Importing Dependencies and Tool Providers\n",
    "\n",
    "This cell imports all necessary libraries, including `black`, `ruff`, `mypy`, and `radon`, and initializes logging. It also registers custom tool providers from the application's extensions to ensure tests execute correctly.\n"
   ]
  },
  {
   "cell_type": "code",
   "execution_count": 4,
   "id": "imports",
   "metadata": {},
   "outputs": [],
   "source": [
    "import logging\n",
    "from importlib import import_module\n",
    "from pathlib import Path\n",
    "import subprocess\n",
    "import black\n",
    "import ruff\n",
    "import mypy\n",
    "import radon\n",
    "\n",
    "from app.factories.tool_provider import ToolProviderFactory\n",
    "\n",
    "import_module(\"app.extensions.tool_providers\")\n",
    "logging.basicConfig(level=logging.DEBUG)\n"
   ]
  },
  {
   "cell_type": "markdown",
   "metadata": {},
   "source": [
    "### Defining Code Snippets for Linting and Analysis\n",
    "\n",
    "This cell defines Python code snippets used in subsequent linting and static analysis tests. The examples include both valid code and intentionally problematic code to trigger specific tool behaviors:\n",
    "\n",
    "- **`good_code`**: Correct, well-formatted Python function; baseline for all tests.\n",
    "- **`bad_linting`**: Poor formatting intended to trigger formatting corrections.\n",
    "- **`bad_typing`**: Intentional type mismatch to test type-checking tools.\n",
    "- **`complex_code`**: Nested loops used to trigger complexity warnings.\n",
    "- **`missing_import`**: Unused import statement to trigger linting errors.\n",
    "- **`invalid_code`**: Invalid Python syntax to test parsing and error detection.\n"
   ]
  },
  {
   "cell_type": "code",
   "execution_count": 6,
   "id": "04924b89",
   "metadata": {},
   "outputs": [],
   "source": [
    "# Correct example\n",
    "good_code = \"\"\"def add(x: int, y: int) -> int:\n",
    "    return x + y\n",
    "\"\"\"\n",
    "\n",
    "# Linting errors example: bad formatting, spacing issues\n",
    "bad_linting = \"\"\"x=1\n",
    "\n",
    "\n",
    "def foo():\n",
    "    return 1\n",
    "\"\"\"\n",
    "\n",
    "# Typing error example: function declares int return but returns str\n",
    "bad_typing = \"\"\"def add(x: int, y: int) -> int:\n",
    "    return str(x + y)\n",
    "\"\"\"\n",
    "\n",
    "# Complexity issue example (nested loops)\n",
    "complex_code = \"\"\"def complex(n):\n",
    "    for i in range(n):\n",
    "        if i % 2 == 0:\n",
    "            for j in range(n):\n",
    "                if j % 3 == 0:\n",
    "                    print(i, j)\n",
    "\"\"\"\n",
    "\n",
    "# Missing import example (unused import)\n",
    "missing_import = \"\"\"import os\n",
    "\n",
    "\n",
    "def bar():\n",
    "    return 42\n",
    "\"\"\"\n",
    "\n",
    "# Invalid Python syntax example\n",
    "invalid_code = \"\"\"def oops(:\n",
    "    pass\n",
    "\"\"\"\n"
   ]
  },
  {
   "cell_type": "markdown",
   "metadata": {},
   "source": [
    "### Testing Black Formatter\n",
    "\n",
    "**Black** is a Python formatter that enforces consistent code styling automatically. It corrects spacing, indentation, line length, and formatting issues.\n",
    "\n",
    "This test demonstrates how **Black** transforms code snippets:\n",
    "\n",
    "- **`good_code`**: Already well-formatted; minimal or no changes expected.\n",
    "- **`bad_linting`**: Poorly formatted; demonstrates how Black fixes common style issues.\n",
    "\n",
    "The output shows the formatted code and any relevant messages from Black, verifying that code style consistency is maintained.\n"
   ]
  },
  {
   "cell_type": "code",
   "execution_count": 7,
   "id": "black-tests",
   "metadata": {},
   "outputs": [
    {
     "name": "stderr",
     "output_type": "stream",
     "text": [
      "DEBUG:BlackToolProvider:Tool run start\n"
     ]
    },
    {
     "name": "stdout",
     "output_type": "stream",
     "text": [
      "Black on good code:\n"
     ]
    },
    {
     "name": "stderr",
     "output_type": "stream",
     "text": [
      "DEBUG:BlackToolProvider:Tool run end\n",
      "DEBUG:BlackToolProvider:Tool run start\n"
     ]
    },
    {
     "name": "stdout",
     "output_type": "stream",
     "text": [
      "\n",
      "\n",
      "def add(x: int, y: int) -> int:\n",
      "    return x + y\n",
      "\n",
      "Black on linting issues:\n"
     ]
    },
    {
     "name": "stderr",
     "output_type": "stream",
     "text": [
      "DEBUG:BlackToolProvider:Tool run end\n"
     ]
    },
    {
     "name": "stdout",
     "output_type": "stream",
     "text": [
      "\n",
      "\n",
      "x = 1\n",
      "\n",
      "\n",
      "def foo():\n",
      "    return 1\n",
      "\n"
     ]
    }
   ],
   "source": [
    "def run_black(code):\n",
    "    path = Path(\"black_demo.py\")\n",
    "    path.write_text(code)\n",
    "    provider = ToolProviderFactory.create(\"black\")\n",
    "    try:\n",
    "        result = provider.run(str(path))\n",
    "        print(result.stdout)\n",
    "        print(result.stderr)\n",
    "        print(path.read_text())\n",
    "    finally:\n",
    "        path.unlink()\n",
    "\n",
    "print('Black on good code:')\n",
    "run_black(good_code)\n",
    "print('Black on linting issues:')\n",
    "run_black(bad_linting)\n"
   ]
  },
  {
   "cell_type": "markdown",
   "id": "9613bf18",
   "metadata": {},
   "source": [
    "### Testing Ruff Linter\n",
    "\n",
    "**Ruff** detects common Python code-quality issues such as unused imports, syntax errors, and formatting problems.\n",
    "\n",
    "This test demonstrates Ruff’s capabilities:\n",
    "\n",
    "- **`good_code`**: Clean; no errors expected.\n",
    "- **`missing_import`**: Ruff correctly identifies and reports an unused import (`os`), demonstrating its lint detection.\n",
    "- **`invalid_code`**: Invalid syntax; Ruff will detect and report syntax errors clearly.\n",
    "\n",
    "The output includes detected errors, their exact locations, and whether Ruff can automatically fix the issues (e.g., unused imports via the `--fix` option). Return codes (`0` for success, non-zero for detected issues) confirm linting results clearly.\n"
   ]
  },
  {
   "cell_type": "code",
   "execution_count": 9,
   "id": "ruff-tests",
   "metadata": {},
   "outputs": [
    {
     "name": "stderr",
     "output_type": "stream",
     "text": [
      "DEBUG:RuffToolProvider:Tool run start\n",
      "DEBUG:RuffToolProvider:All checks passed!\n",
      "\n",
      "DEBUG:RuffToolProvider:Tool run end\n",
      "DEBUG:RuffToolProvider:Tool run start\n"
     ]
    },
    {
     "name": "stdout",
     "output_type": "stream",
     "text": [
      "Ruff on good code:\n",
      "All checks passed!\n",
      "\n",
      "\n",
      "return code 0\n",
      "Ruff with unused import:\n"
     ]
    },
    {
     "name": "stderr",
     "output_type": "stream",
     "text": [
      "DEBUG:RuffToolProvider:\u001b[1mruff_demo.py\u001b[0m\u001b[36m:\u001b[0m1\u001b[36m:\u001b[0m8\u001b[36m:\u001b[0m \u001b[1;31mF401\u001b[0m [\u001b[36m*\u001b[0m] `os` imported but unused\n",
      "Found 1 error.\n",
      "[\u001b[36m*\u001b[0m] 1 fixable with the `--fix` option.\n",
      "\n",
      "DEBUG:RuffToolProvider:Tool run start\n",
      "DEBUG:RuffToolProvider:\u001b[1mruff_demo.py\u001b[0m\u001b[36m:\u001b[0m1\u001b[36m:\u001b[0m10\u001b[36m:\u001b[0m \u001b[1;31mE999\u001b[0m SyntaxError: Expected a parameter or the end of the parameter list\n",
      "Found 1 error.\n",
      "\n",
      "ERROR:RuffToolProvider:\u001b[1;31merror\u001b[0m\u001b[1m:\u001b[0m \u001b[1mFailed to parse\u001b[0m \u001b[1mruff_demo.py\u001b[0m\u001b[36m:\u001b[0m1\u001b[36m:\u001b[0m10\u001b[36m:\u001b[0m Expected a parameter or the end of the parameter list\n",
      "\n"
     ]
    },
    {
     "name": "stdout",
     "output_type": "stream",
     "text": [
      "Error running Ruff: ruff failed: \n",
      "Ruff on invalid code:\n",
      "Error running Ruff: ruff failed: \u001b[1;31merror\u001b[0m\u001b[1m:\u001b[0m \u001b[1mFailed to parse\u001b[0m \u001b[1mruff_demo.py\u001b[0m\u001b[36m:\u001b[0m1\u001b[36m:\u001b[0m10\u001b[36m:\u001b[0m Expected a parameter or the end of the parameter list\n",
      "\n"
     ]
    }
   ],
   "source": [
    "def run_ruff(code):\n",
    "    path = Path(\"ruff_demo.py\")\n",
    "    path.write_text(code)\n",
    "    provider = ToolProviderFactory.create(\"ruff\")\n",
    "    try:\n",
    "        result = provider.run(str(path))\n",
    "        print(result.stdout)\n",
    "        print(result.stderr)\n",
    "        print('return code', result.returncode)\n",
    "    except Exception as e:\n",
    "        print(f'Error running Ruff: {e}')\n",
    "    finally:\n",
    "        path.unlink()\n",
    "\n",
    "print('Ruff on good code:')\n",
    "run_ruff(good_code)\n",
    "print('Ruff with unused import:')\n",
    "run_ruff(missing_import)\n",
    "print('Ruff on invalid code:')\n",
    "run_ruff(invalid_code)\n"
   ]
  },
  {
   "cell_type": "markdown",
   "metadata": {},
   "source": [
    "### Testing Mypy Static Type Checker\n",
    "\n",
    "**Mypy** is a static type checker that verifies Python code against type annotations, catching type-related errors before runtime.\n",
    "\n",
    "This test demonstrates:\n",
    "\n",
    "- **`good_code`**: Correct annotations; expected to pass without issues.\n",
    "- **`bad_typing`**: Contains a deliberate type mismatch; Mypy detects and clearly reports the incompatible return type.\n",
    "- **`invalid_code`**: Contains syntax errors; Mypy immediately reports these parsing issues.\n",
    "\n",
    "The output clearly shows detected type and syntax errors, their locations, error messages, and Mypy’s return codes (`0` for success, non-zero for issues). Exception handling ensures all tests run to completion.\n"
   ]
  },
  {
   "cell_type": "code",
   "execution_count": 11,
   "id": "mypy-tests",
   "metadata": {},
   "outputs": [
    {
     "name": "stderr",
     "output_type": "stream",
     "text": [
      "DEBUG:MypyToolProvider:Tool run start\n"
     ]
    },
    {
     "name": "stdout",
     "output_type": "stream",
     "text": [
      "Mypy on good code:\n"
     ]
    },
    {
     "name": "stderr",
     "output_type": "stream",
     "text": [
      "DEBUG:MypyToolProvider:\u001b[1m\u001b[92mSuccess: no issues found in 1 source file\u001b[0m\n",
      "\n",
      "DEBUG:MypyToolProvider:Tool run end\n",
      "DEBUG:MypyToolProvider:Tool run start\n"
     ]
    },
    {
     "name": "stdout",
     "output_type": "stream",
     "text": [
      "\u001b[1m\u001b[92mSuccess: no issues found in 1 source file\u001b[0m\n",
      "\n",
      "\n",
      "return code 0\n",
      "Mypy with typing error:\n"
     ]
    },
    {
     "name": "stderr",
     "output_type": "stream",
     "text": [
      "DEBUG:MypyToolProvider:mypy_demo.py:2: \u001b[1m\u001b[91merror:\u001b[0m Incompatible return value type (got \u001b[0m\u001b[1m\"str\"\u001b[0m, expected \u001b[0m\u001b[1m\"int\"\u001b[0m)  \u001b[0m\u001b[93m[return-value]\u001b[0m\n",
      "\u001b[1m\u001b[91mFound 1 error in 1 file (checked 1 source file)\u001b[0m\n",
      "\n",
      "DEBUG:MypyToolProvider:Tool run end\n",
      "DEBUG:MypyToolProvider:Tool run start\n",
      "DEBUG:MypyToolProvider:mypy_demo.py:1: \u001b[1m\u001b[91merror:\u001b[0m invalid syntax  \u001b[0m\u001b[93m[syntax]\u001b[0m\n",
      "\u001b[1m\u001b[91mFound 1 error in 1 file (errors prevented further checking)\u001b[0m\n",
      "\n"
     ]
    },
    {
     "name": "stdout",
     "output_type": "stream",
     "text": [
      "mypy_demo.py:2: \u001b[1m\u001b[91merror:\u001b[0m Incompatible return value type (got \u001b[0m\u001b[1m\"str\"\u001b[0m, expected \u001b[0m\u001b[1m\"int\"\u001b[0m)  \u001b[0m\u001b[93m[return-value]\u001b[0m\n",
      "\u001b[1m\u001b[91mFound 1 error in 1 file (checked 1 source file)\u001b[0m\n",
      "\n",
      "\n",
      "return code 1\n",
      "Mypy on invalid code:\n",
      "Error running Mypy: mypy execution error: \n"
     ]
    }
   ],
   "source": [
    "def run_mypy(code):\n",
    "    path = Path(\"mypy_demo.py\")\n",
    "    path.write_text(code)\n",
    "    provider = ToolProviderFactory.create(\"mypy\")\n",
    "    try:\n",
    "        result = provider.run(str(path))\n",
    "        print(result.stdout)\n",
    "        print(result.stderr)\n",
    "        print('return code', result.returncode)\n",
    "    except Exception as e:\n",
    "        print(f'Error running Mypy: {e}')\n",
    "    finally:\n",
    "        path.unlink()\n",
    "\n",
    "print('Mypy on good code:')\n",
    "run_mypy(good_code)\n",
    "\n",
    "print('Mypy with typing error:')\n",
    "run_mypy(bad_typing)\n",
    "\n",
    "print('Mypy on invalid code:')\n",
    "run_mypy(invalid_code)\n"
   ]
  },
  {
   "cell_type": "markdown",
   "metadata": {},
   "source": [
    "### Testing Radon Complexity Analyzer\n",
    "\n",
    "**Radon** analyzes Python code to measure its cyclomatic complexity, which helps identify overly complex functions that may be hard to maintain or test.\n",
    "\n",
    "This test demonstrates:\n",
    "\n",
    "- **`good_code`**: Simple, low-complexity function; expected complexity rating is 'A'.\n",
    "- **`complex_code`**: Function with nested loops intended to increase complexity; complexity rating reflects higher complexity.\n",
    "\n",
    "The output shows Radon’s complexity ratings clearly for each tested snippet. Ratings range from 'A' (low complexity) to 'F' (high complexity).\n"
   ]
  },
  {
   "cell_type": "code",
   "execution_count": 13,
   "id": "radon-tests",
   "metadata": {},
   "outputs": [
    {
     "name": "stderr",
     "output_type": "stream",
     "text": [
      "DEBUG:RadonToolProvider:Tool run start\n"
     ]
    },
    {
     "name": "stdout",
     "output_type": "stream",
     "text": [
      "Radon on good code:\n"
     ]
    },
    {
     "name": "stderr",
     "output_type": "stream",
     "text": [
      "DEBUG:RadonToolProvider:radon_demo.py\n",
      "    F 1:0 add - A\n",
      "\n",
      "DEBUG:RadonToolProvider:Tool run end\n",
      "DEBUG:RadonToolProvider:Tool run start\n"
     ]
    },
    {
     "name": "stdout",
     "output_type": "stream",
     "text": [
      "radon_demo.py\n",
      "    F 1:0 add - A\n",
      "\n",
      "Radon on complex code:\n"
     ]
    },
    {
     "name": "stderr",
     "output_type": "stream",
     "text": [
      "DEBUG:RadonToolProvider:radon_demo.py\n",
      "    F 1:0 complex - A\n",
      "\n",
      "DEBUG:RadonToolProvider:Tool run end\n"
     ]
    },
    {
     "name": "stdout",
     "output_type": "stream",
     "text": [
      "radon_demo.py\n",
      "    F 1:0 complex - A\n",
      "\n"
     ]
    }
   ],
   "source": [
    "def run_radon(code):\n",
    "    path = Path(\"radon_demo.py\")\n",
    "    path.write_text(code)\n",
    "    provider = ToolProviderFactory.create(\"radon\")\n",
    "    try:\n",
    "        result = provider.run(str(path))\n",
    "        print(result.stdout)\n",
    "    except Exception as e:\n",
    "        print('Radon failed:', e)\n",
    "    finally:\n",
    "        path.unlink()\n",
    "\n",
    "print('Radon on good code:')\n",
    "run_radon(good_code)\n",
    "print('Radon on complex code:')\n",
    "run_radon(complex_code)\n"
   ]
  }
 ],
 "metadata": {
  "kernelspec": {
   "display_name": ".venv",
   "language": "python",
   "name": "python3"
  },
  "language_info": {
   "codemirror_mode": {
    "name": "ipython",
    "version": 3
   },
   "file_extension": ".py",
   "mimetype": "text/x-python",
   "name": "python",
   "nbconvert_exporter": "python",
   "pygments_lexer": "ipython3",
   "version": "3.12.6"
  }
 },
 "nbformat": 4,
 "nbformat_minor": 5
}
