{
 "cells": [
  {
   "cell_type": "code",
   "execution_count": 1,
   "id": "a1888624",
   "metadata": {},
   "outputs": [
    {
     "name": "stdout",
     "output_type": "stream",
     "text": [
      "✅ sys.path updated. Root is: C:\\Repos\\codecritic\n",
      "✅ Environment loaded from: C:\\Repos\\codecritic\\env\\.env\n"
     ]
    }
   ],
   "source": [
    "import sys\n",
    "from pathlib import Path\n",
    "\n",
    "# Resolve repo root, e.g., from /experiments/experiment_1 → /Repos/codecritic\n",
    "project_root = Path().resolve().parents[1]\n",
    "if str(project_root) not in sys.path:\n",
    "    sys.path.insert(0, str(project_root))\n",
    "\n",
    "print(\"✅ sys.path updated. Root is:\", project_root)\n",
    "\n",
    "# Explicitly load .env from project root\n",
    "from dotenv import load_dotenv\n",
    "root_env = project_root / \"env\" / \".env\"\n",
    "load_dotenv(dotenv_path=root_env)\n",
    "\n",
    "print(\"✅ Environment loaded from:\", root_env)\n"
   ]
  },
  {
   "cell_type": "code",
   "execution_count": 2,
   "id": "b452b6d6",
   "metadata": {},
   "outputs": [
    {
     "name": "stdout",
     "output_type": "stream",
     "text": [
      "❌ OPENAI_KEY not found in environment\n"
     ]
    }
   ],
   "source": [
    "import os\n",
    "from pathlib import Path\n",
    "from dotenv import load_dotenv\n",
    "\n",
    "# Locate and load .env from the project root\n",
    "project_root = Path().resolve().parents[1]\n",
    "env_path = project_root / \".env\"\n",
    "load_dotenv(dotenv_path=env_path)\n",
    "\n",
    "# Check and partially print the key\n",
    "openai_key = os.getenv(\"OPENAI_KEY\")\n",
    "if openai_key:\n",
    "    print(f\"✅ OPENAI_KEY loaded: {openai_key[:8]}... (length: {len(openai_key)})\")\n",
    "else:\n",
    "    print(\"❌ OPENAI_KEY not found in environment\")\n"
   ]
  },
  {
   "cell_type": "code",
   "execution_count": 3,
   "id": "85b83508",
   "metadata": {},
   "outputs": [
    {
     "name": "stdout",
     "output_type": "stream",
     "text": [
      "🚀 Starting experiment: experiment_1\n",
      "📄 Loading config: C:\\Repos\\codecritic\\experiments\\experiment_1\\config\\experiment_config.json\n",
      "📂 Scanning inputs in: C:\\Repos\\codecritic\\experiments\\experiment_1\\inputs\n",
      "📦 Running on inputs\\alert_model.py\n",
      "🔁 Round 1 — alert_model.py\n",
      "📝 Writing log: C:\\Repos\\codecritic\\experiments\\experiment_1\\logs\\change_deltas.jsonl\n",
      "📝 Writing log: C:\\Repos\\codecritic\\experiments\\experiment_1\\logs\\agent_actions.jsonl\n",
      "✅ Round 1 score: {'docstring_structure': 1, 'annotation_presence': 2, 'error_handling': 0, 'signature_match': 0, 'execution_valid': 0, 'unused_vars_penalty': 5, 'logging_coverage': 0, 'type_hints': 0}\n",
      "📦 Running on inputs\\auth_service.py\n",
      "🔁 Round 1 — auth_service.py\n",
      "📝 Writing log: C:\\Repos\\codecritic\\experiments\\experiment_1\\logs\\change_deltas.jsonl\n",
      "📝 Writing log: C:\\Repos\\codecritic\\experiments\\experiment_1\\logs\\agent_actions.jsonl\n",
      "✅ Round 1 score: {'docstring_structure': 1, 'annotation_presence': 2, 'error_handling': 0, 'signature_match': 5, 'execution_valid': 0, 'unused_vars_penalty': 5, 'logging_coverage': 0, 'type_hints': 5}\n",
      "🧮 Processed 2 file(s). Writing metadata...\n",
      "🧾 Metadata written to: C:\\Repos\\codecritic\\experiments\\experiment_1\\metadata.json\n",
      "✅ Experiment complete.\n"
     ]
    }
   ],
   "source": [
    "from pathlib import Path\n",
    "from app.agent_framework.runner.run_experiment import run_experiment\n",
    "from app.agent_framework.agents.preprocessing.agent_1.agent_factory_preprocessing import agent_factory\n",
    "\n",
    "run_experiment(Path().resolve(), agent_factory)"
   ]
  }
 ],
 "metadata": {
  "kernelspec": {
   "display_name": ".venv",
   "language": "python",
   "name": "python3"
  },
  "language_info": {
   "codemirror_mode": {
    "name": "ipython",
    "version": 3
   },
   "file_extension": ".py",
   "mimetype": "text/x-python",
   "name": "python",
   "nbconvert_exporter": "python",
   "pygments_lexer": "ipython3",
   "version": "3.12.6"
  }
 },
 "nbformat": 4,
 "nbformat_minor": 5
}
