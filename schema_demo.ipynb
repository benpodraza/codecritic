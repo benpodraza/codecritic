{
 "cells": [
  {
   "cell_type": "code",
   "execution_count": 1,
   "id": "dd965f71",
   "metadata": {},
   "outputs": [],
   "source": [
    "from app.utilities.schema import initialize_database\n",
    "\n",
    "conn = initialize_database(reset=True)"
   ]
  },
  {
   "cell_type": "code",
   "execution_count": 2,
   "id": "57658eef",
   "metadata": {},
   "outputs": [
    {
     "name": "stdout",
     "output_type": "stream",
     "text": [
      "agent_engine [(1, 'basic', 'Basic test engine', 'gpt-4', '{}', 'engines\\\\basic.json', 'agent_engine')]\n",
      "agent_prompt [(1, 'default_agent', 'Agent prompt', 'generator', 'default', 'prompts\\\\agent.txt', 'agent_prompt')]\n",
      "system_prompt [(1, 'default_system', 'System prompt', 'default', 'prompts\\\\system.txt', 'system_prompt')]\n"
     ]
    }
   ],
   "source": [
    "tables = [\"agent_engine\", \"agent_prompt\", \"system_prompt\"]\n",
    "for t in tables:\n",
    "    rows = conn.execute(f\"SELECT * FROM {t}\").fetchall()\n",
    "    print(t, rows)"
   ]
  }
 ],
 "metadata": {
  "kernelspec": {
   "display_name": ".venv",
   "language": "python",
   "name": "python3"
  },
  "language_info": {
   "codemirror_mode": {
    "name": "ipython",
    "version": 3
   },
   "file_extension": ".py",
   "mimetype": "text/x-python",
   "name": "python",
   "nbconvert_exporter": "python",
   "pygments_lexer": "ipython3",
   "version": "3.12.6"
  }
 },
 "nbformat": 4,
 "nbformat_minor": 5
}
