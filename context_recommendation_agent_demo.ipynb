{
 "cells": [
  {
   "cell_type": "markdown",
   "metadata": {},
   "source": [
    "# Context-Aware Recommendation Agent Demo\n",
    "This notebook demonstrates how the `RecommendationAgent` leverages `SymbolGraphProvider` context to produce structured recommendations."
   ]
  },
  {
   "cell_type": "code",
   "execution_count": 1,
   "id": "c5d8c5e3",
   "metadata": {},
   "outputs": [],
   "source": [
    "from importlib import import_module\n",
    "from pathlib import Path\n",
    "from app.factories.agent import AgentFactory\n",
    "from app.factories.logging_provider import ConversationLog, CodeQualityLog, ScoringLog\n",
    "from app.extensions.context_providers.symbol_graph_provider import SymbolGraphProvider\n",
    "from app.enums.agent_enums import AgentRole\n",
    "from app.enums.scoring_enums import ScoringMetric\n",
    "import pandas as pd"
   ]
  },
  {
   "cell_type": "code",
   "execution_count": 2,
   "id": "c69638e4",
   "metadata": {},
   "outputs": [
    {
     "data": {
      "application/vnd.microsoft.datawrangler.viewer.v0+json": {
       "columns": [
        {
         "name": "index",
         "rawType": "int64",
         "type": "integer"
        },
        {
         "name": "experiment_id",
         "rawType": "object",
         "type": "string"
        },
        {
         "name": "round",
         "rawType": "int64",
         "type": "integer"
        },
        {
         "name": "symbol",
         "rawType": "object",
         "type": "string"
        },
        {
         "name": "file_path",
         "rawType": "object",
         "type": "string"
        },
        {
         "name": "line_start",
         "rawType": "int64",
         "type": "integer"
        },
        {
         "name": "line_end",
         "rawType": "int64",
         "type": "integer"
        },
        {
         "name": "recommendation",
         "rawType": "object",
         "type": "string"
        },
        {
         "name": "context",
         "rawType": "object",
         "type": "string"
        },
        {
         "name": "timestamp",
         "rawType": "datetime64[ns, UTC]",
         "type": "unknown"
        }
       ],
       "conversionMethod": "pd.DataFrame",
       "ref": "24b94158-f3fc-4e18-b13e-351bf7b86de5",
       "rows": [
        [
         "0",
         "exp",
         "0",
         "demo.py",
         "demo.py",
         "0",
         "0",
         "Fix lint errors; Refactor to improve maintainability; Simplify to reduce complexity; Improve score for coverage; Use list comprehension",
         "lint issues detected; low maintainability; high complexity; low score coverage; prior intervention",
         "2025-05-18 16:14:12.308520+00:00"
        ]
       ],
       "shape": {
        "columns": 9,
        "rows": 1
       }
      },
      "text/html": [
       "<div>\n",
       "<style scoped>\n",
       "    .dataframe tbody tr th:only-of-type {\n",
       "        vertical-align: middle;\n",
       "    }\n",
       "\n",
       "    .dataframe tbody tr th {\n",
       "        vertical-align: top;\n",
       "    }\n",
       "\n",
       "    .dataframe thead th {\n",
       "        text-align: right;\n",
       "    }\n",
       "</style>\n",
       "<table border=\"1\" class=\"dataframe\">\n",
       "  <thead>\n",
       "    <tr style=\"text-align: right;\">\n",
       "      <th></th>\n",
       "      <th>experiment_id</th>\n",
       "      <th>round</th>\n",
       "      <th>symbol</th>\n",
       "      <th>file_path</th>\n",
       "      <th>line_start</th>\n",
       "      <th>line_end</th>\n",
       "      <th>recommendation</th>\n",
       "      <th>context</th>\n",
       "      <th>timestamp</th>\n",
       "    </tr>\n",
       "  </thead>\n",
       "  <tbody>\n",
       "    <tr>\n",
       "      <th>0</th>\n",
       "      <td>exp</td>\n",
       "      <td>0</td>\n",
       "      <td>demo.py</td>\n",
       "      <td>demo.py</td>\n",
       "      <td>0</td>\n",
       "      <td>0</td>\n",
       "      <td>Fix lint errors; Refactor to improve maintaina...</td>\n",
       "      <td>lint issues detected; low maintainability; hig...</td>\n",
       "      <td>2025-05-18 16:14:12.308520+00:00</td>\n",
       "    </tr>\n",
       "  </tbody>\n",
       "</table>\n",
       "</div>"
      ],
      "text/plain": [
       "  experiment_id  round   symbol file_path  line_start  line_end  \\\n",
       "0           exp      0  demo.py   demo.py           0         0   \n",
       "\n",
       "                                      recommendation  \\\n",
       "0  Fix lint errors; Refactor to improve maintaina...   \n",
       "\n",
       "                                             context  \\\n",
       "0  lint issues detected; low maintainability; hig...   \n",
       "\n",
       "                         timestamp  \n",
       "0 2025-05-18 16:14:12.308520+00:00  "
      ]
     },
     "execution_count": 2,
     "metadata": {},
     "output_type": "execute_result"
    }
   ],
   "source": [
    "import_module(\"app.extensions.agents\")\n",
    "provider = SymbolGraphProvider(\"sample_module.py\")\n",
    "conv = ConversationLog(\n",
    "    \"exp\", 0, AgentRole.MEDIATOR, \"sample_module.py\", \"Use list comprehension\", \"mediator\", True\n",
    ")\n",
    "qlog = CodeQualityLog(\"exp\", 0, \"sample_module.py\", 10, 12.0, 60.0, 1)\n",
    "slog = ScoringLog(\"exp\", 0, ScoringMetric.COVERAGE, 0.3)\n",
    "agent = AgentFactory.create(\"recommendation\", target=\"sample_module.py\", context_provider=provider)\n",
    "agent.run(conversation_log=[conv], code_quality_log=[qlog], scoring_log=[slog])\n",
    "pd.DataFrame([r.__dict__ for r in agent.recommendation_logs])"
  ]
 }
 ],
 "metadata": {
  "kernelspec": {
   "display_name": ".venv",
   "language": "python",
   "name": "python3"
  },
  "language_info": {
   "codemirror_mode": {
    "name": "ipython",
    "version": 3
   },
   "file_extension": ".py",
   "mimetype": "text/x-python",
   "name": "python",
   "nbconvert_exporter": "python",
   "pygments_lexer": "ipython3",
   "version": "3.12.6"
  }
 },
 "nbformat": 4,
 "nbformat_minor": 5
}
