{
  "cells": [
    {
      "cell_type": "code",
      "execution_count": null,
      "metadata": {},
      "outputs": [],
      "source": [
        "from importlib import import_module\n",
        "from app.factories.agent import AgentFactory\n",
        "from app.factories.system_manager import SystemManagerFactory\n",
        "from app.factories.state_manager import StateManagerFactory\n",
        "from app.factories.prompt_manager import PromptGeneratorFactory\n",
        "from app.factories.tool_provider import ToolProviderFactory\n",
        "from app.factories.scoring_provider import ScoringProviderFactory\n",
        "import_module(\"app.extensions.agents\")\n",
        "\n",
        "agent = AgentFactory.create(\"dummy\")\n",
        "system_manager = SystemManagerFactory.create(\"dummy\")\n",
        "state_manager = StateManagerFactory.create(\"dummy\")\n",
        "prompt_gen = PromptGeneratorFactory.create(\"dummy\")\n",
        "tool_provider = ToolProviderFactory.create(\"dummy\")\n",
        "scoring_provider = ScoringProviderFactory.create(\"dummy\")\n",
        "\n",
        "print(agent, system_manager, state_manager, prompt_gen.generate_prompt(), tool_provider.run(), scoring_provider.score())"
      ]
    }
  ],
  "metadata": {
    "kernelspec": {
      "display_name": "Python 3",
      "language": "python",
      "name": "python3"
    },
    "language_info": {
      "name": "python",
      "version": "3.11"
    }
  },
  "nbformat": 4,
  "nbformat_minor": 5
}
