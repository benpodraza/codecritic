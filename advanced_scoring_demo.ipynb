{
 "cells": [
  {
   "cell_type": "code",
   "execution_count": 1,
   "id": "53e9a9aa",
   "metadata": {},
   "outputs": [],
   "source": [
    "from app.extensions.scoring_models import AdvancedScoringProvider\n",
    "from app.factories.logging_provider import CodeQualityLog, RecommendationLog"
   ]
  },
  {
   "cell_type": "code",
   "execution_count": 3,
   "id": "ab4e829c",
   "metadata": {},
   "outputs": [],
   "source": [
    "provider = AdvancedScoringProvider()\n",
    "logs = {\n",
    "    \"code_quality\": [\n",
    "        CodeQualityLog(\n",
    "            experiment_id=\"exp\",\n",
    "            round=0,\n",
    "            symbol=\"m\",\n",
    "            lines_of_code=10,\n",
    "            cyclomatic_complexity=5.0,\n",
    "            maintainability_index=80.0,\n",
    "            lint_errors=0,\n",
    "        )\n",
    "    ],\n",
    "    \"recommendation\": [\n",
    "        RecommendationLog(\n",
    "            experiment_id=\"exp\",\n",
    "            round=0,\n",
    "            symbol=\"m\",\n",
    "            file_path=\"m.py\",\n",
    "            line_start=0,\n",
    "            line_end=0,\n",
    "            recommendation=\"{}\",\n",
    "            context=\"ctx\",\n",
    "        )\n",
    "    ],\n",
    "}"
   ]
  },
  {
   "cell_type": "code",
   "execution_count": 4,
   "id": "d5d5692f",
   "metadata": {},
   "outputs": [
    {
     "data": {
      "text/plain": [
       "{'maintainability_index': 80.0,\n",
       " 'cyclomatic_complexity': 5.0,\n",
       " 'recommendation_quality': 1.0}"
      ]
     },
     "execution_count": 4,
     "metadata": {},
     "output_type": "execute_result"
    }
   ],
   "source": [
    "provider.score(logs, experiment_id=\"exp\")"
   ]
  }
 ],
 "metadata": {
  "kernelspec": {
   "display_name": ".venv",
   "language": "python",
   "name": "python3"
  },
  "language_info": {
   "codemirror_mode": {
    "name": "ipython",
    "version": 3
   },
   "file_extension": ".py",
   "mimetype": "text/x-python",
   "name": "python",
   "nbconvert_exporter": "python",
   "pygments_lexer": "ipython3",
   "version": "3.12.6"
  }
 },
 "nbformat": 4,
 "nbformat_minor": 5
}
