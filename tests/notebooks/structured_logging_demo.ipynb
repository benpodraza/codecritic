{
 "cells": [
  {
   "cell_type": "markdown",
   "metadata": {},
   "source": [
    "# Structured Logging Demo"
   ]
  },
  {
   "cell_type": "code",
   "execution_count": 1,
   "metadata": {},
   "outputs": [],
   "source": [
    "import sqlite3\n",
    "from importlib import import_module\n",
    "from app.factories.logging_provider import LoggingProvider\n",
    "from app.extensions.context_providers.dummy_context_provider import DummyContextProvider\n",
    "from app.extensions.tool_providers.dummy_tool_provider import DummyToolProvider\n",
    "from app.extensions.agents.dummy_agent import DummyAgent\n",
    "from app.extensions.experiment_provider import ExperimentProvider\n"
   ]
  },
  {
   "cell_type": "code",
   "execution_count": 2,
   "metadata": {},
   "outputs": [],
   "source": [
    "conn = sqlite3.connect(':memory:')\n",
    "logger = LoggingProvider(connection=conn)\n",
    "ctx = DummyContextProvider(logger=logger)\n",
    "tool = DummyToolProvider(logger=logger)\n",
    "agent = DummyAgent(logger=logger)\n",
    "exp = ExperimentProvider('demo', 'demo experiment', 'test', 'v1', 1, 0.0, 'engine', 'eval', '1.0', logger=logger)\n",
    "ctx.get_context(experiment_id='demo', round=0)\n",
    "tool.run(experiment_id='demo', round=0)\n",
    "agent.run(experiment_id='demo', round=0)\n",
    "exp.complete(1.0, True, 'done')\n"
   ]
  },
  {
   "cell_type": "code",
   "execution_count": 3,
   "metadata": {},
   "outputs": [],
   "source": [
    "cur = conn.cursor()\n",
    "tables = [\n        'context_retrieval_log',\n        'tool_invocation_log',\n        'agent_action_log',\n        'system_event_log',\n        'experiment_log'\n    ]\n",
    "counts = {t: cur.execute(f'SELECT COUNT(*) FROM {t}').fetchone()[0] for t in tables}\n",
    "print(counts)\n"
   ]
  }
 ],
 "metadata": {
  "kernelspec": {
   "display_name": "python3",
   "language": "python",
   "name": "python3"
  },
  "language_info": {
   "name": "python",
   "pygments_lexer": "ipython3",
   "version": "3"
  }
 },
 "nbformat": 4,
 "nbformat_minor": 5
}
