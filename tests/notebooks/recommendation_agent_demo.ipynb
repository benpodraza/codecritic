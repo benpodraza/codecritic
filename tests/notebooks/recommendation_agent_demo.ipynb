{
 "cells": [
  {
   "cell_type": "markdown",
   "metadata": {},
   "source": [
    "# Recommendation Agent Demo\n",
    "This notebook demonstrates how the `RecommendationAgent` analyzes historical logs to generate actionable recommendations."
   ]
  },
  {
   "cell_type": "code",
   "execution_count": null,
   "metadata": {},
   "outputs": [],
   "source": [
    "from importlib import import_module\n",
    "from app.factories.agent import AgentFactory\n",
    "from app.factories.logging_provider import ConversationLog, CodeQualityLog, ScoringLog\n",
    "from app.enums.agent_enums import AgentRole\n",
    "from app.enums.scoring_enums import ScoringMetric\n",
    "import pandas as pd\n"
   ]
  },
  {
   "cell_type": "code",
   "execution_count": null,
   "metadata": {},
   "outputs": [],
   "source": [
    "import_module('app.extensions.agents')\n",
    "conv = ConversationLog('exp', 0, AgentRole.MEDIATOR, 'demo.py', 'Use list comprehension', 'mediator', True)\n",
    "qlog = CodeQualityLog('exp', 0, 'demo.py', 10, 12.0, 60.0, 1)\n",
    "slog = ScoringLog('exp', 0, ScoringMetric.COVERAGE, 0.3)\n",
    "agent = AgentFactory.create('recommendation', target='demo.py')\n",
    "agent.run(conversation_log=[conv], code_quality_log=[qlog], scoring_log=[slog])\n",
    "pd.DataFrame([r.__dict__ for r in agent.recommendation_logs])"
   ]
  }
 ],
 "metadata": {
  "kernelspec": {
   "display_name": ".venv",
   "language": "python",
   "name": "python3"
  },
  "language_info": {
   "name": "python",
   "version": "3.11"
  }
 },
 "nbformat": 4,
 "nbformat_minor": 5
}
