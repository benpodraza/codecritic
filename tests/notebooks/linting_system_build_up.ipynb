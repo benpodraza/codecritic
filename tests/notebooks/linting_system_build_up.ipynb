{
 "cells": [
  {
   "cell_type": "markdown",
   "metadata": {},
   "source": [
    "## Linting System Build-Up"
   ]
  },
  {
   "cell_type": "markdown",
   "metadata": {},
   "source": [
    "This notebook demonstrates using the built-in tool providers to run Black, Ruff, Mypy, and Radon.\n",
    "\n",
    "**Assumptions**:\n",
    "- `black`, `ruff`, and `mypy` are installed.\n",
    "- `radon` may be missing; errors are captured to show failure handling.\n",
    "\n",
    "Logging is configured at the DEBUG level so provider actions are visible."
   ]
  },
  {
   "cell_type": "code",
   "execution_count": 1,
   "id": "imports",
   "metadata": {},
   "outputs": [],
   "source": [
    "import logging\n",
    "from importlib import import_module\n",
    "from pathlib import Path\n",
    "import subprocess\n",
    "import black\n",
    "import ruff\n",
    "import mypy\n",
    "import radon\n",
    "\n",
    "from app.factories.tool_provider import ToolProviderFactory\n",
    "\n",
    "import_module(\"app.extensions.tool_providers\")\n",
    "logging.basicConfig(level=logging.DEBUG)\n"
   ]
  },
  {
   "cell_type": "markdown",
   "metadata": {},
   "source": [
    "Define code snippets used by the linters. We include valid code along with intentionally bad examples to trigger linting and typing errors."
   ]
  },
  {
   "cell_type": "code",
   "execution_count": 2,
   "id": "samples",
   "metadata": {},
   "outputs": [],
   "source": [
    "good_code = \"def add(x: int, y: int) -> int:\n    return x + y\n\"\n",
    "bad_linting = \"x=1\n\n\ndef foo():\n    return 1\n\"\n",
    "bad_typing = \"def add(x: int, y: int) -> int:\n    return str(x + y)\n\"\n",
    "complex_code = (\n",
    "    \"def complex(n):\\n\"\n",
    "    \"    for i in range(n):\\n\"\n",
    "    \"        if i % 2 == 0:\\n\"\n",
    "    \"            for j in range(n):\\n\"\n",
    "    \"                if j % 3 == 0:\\n\"\n",
    "    \"                    print(i, j)\\n\"\n",
    ")\n",
    "missing_import = \"import os\n\n\ndef bar():\n    return 42\n\"\n",
    "invalid_code = \"def oops(:\n    pass\n\"\n"
   ]
  },
  {
   "cell_type": "markdown",
   "metadata": {},
   "source": [
    "### Running Black"
   ]
  },
  {
   "cell_type": "code",
   "execution_count": 3,
   "id": "black-tests",
   "metadata": {},
   "outputs": [],
   "source": [
    "def run_black(code):\n",
    "    path = Path(\"black_demo.py\")\n",
    "    path.write_text(code)\n",
    "    provider = ToolProviderFactory.create(\"black\")\n",
    "    try:\n",
    "        result = provider.run(str(path))\n",
    "        print(result.stdout)\n",
    "        print(result.stderr)\n",
    "        print(path.read_text())\n",
    "    finally:\n",
    "        path.unlink()\n",
    "\n",
    "print('Black on good code:')\n",
    "run_black(good_code)\n",
    "print('Black on linting issues:')\n",
    "run_black(bad_linting)\n"
   ]
  },
  {
   "cell_type": "markdown",
   "metadata": {},
   "source": [
    "### Running Ruff"
   ]
  },
  {
   "cell_type": "code",
   "execution_count": 4,
   "id": "ruff-tests",
   "metadata": {},
   "outputs": [],
   "source": [
    "def run_ruff(code):\n",
    "    path = Path(\"ruff_demo.py\")\n",
    "    path.write_text(code)\n",
    "    provider = ToolProviderFactory.create(\"ruff\")\n",
    "    try:\n",
    "        result = provider.run(str(path))\n",
    "        print(result.stdout)\n",
    "        print(result.stderr)\n",
    "        print('return code', result.returncode)\n",
    "    finally:\n",
    "        path.unlink()\n",
    "\n",
    "print('Ruff on good code:')\n",
    "run_ruff(good_code)\n",
    "print('Ruff with unused import:')\n",
    "run_ruff(missing_import)\n",
    "print('Ruff on invalid code:')\n",
    "run_ruff(invalid_code)\n"
   ]
  },
  {
   "cell_type": "markdown",
   "metadata": {},
   "source": [
    "### Running Mypy"
   ]
  },
  {
   "cell_type": "code",
   "execution_count": 5,
   "id": "mypy-tests",
   "metadata": {},
   "outputs": [],
   "source": [
    "def run_mypy(code):\n",
    "    path = Path(\"mypy_demo.py\")\n",
    "    path.write_text(code)\n",
    "    provider = ToolProviderFactory.create(\"mypy\")\n",
    "    try:\n",
    "        result = provider.run(str(path))\n",
    "        print(result.stdout)\n",
    "        print(result.stderr)\n",
    "        print('return code', result.returncode)\n",
    "    finally:\n",
    "        path.unlink()\n",
    "\n",
    "print('Mypy on good code:')\n",
    "run_mypy(good_code)\n",
    "print('Mypy with typing error:')\n",
    "run_mypy(bad_typing)\n",
    "print('Mypy on invalid code:')\n",
    "run_mypy(invalid_code)\n"
   ]
  },
  {
   "cell_type": "markdown",
   "metadata": {},
   "source": [
    "### Running Radon"
   ]
  },
  {
   "cell_type": "code",
   "execution_count": 6,
   "id": "radon-tests",
   "metadata": {},
   "outputs": [],
   "source": [
    "def run_radon(code):\n",
    "    path = Path(\"radon_demo.py\")\n",
    "    path.write_text(code)\n",
    "    provider = ToolProviderFactory.create(\"radon\")\n",
    "    try:\n",
    "        result = provider.run(str(path))\n",
    "        print(result.stdout)\n",
    "    except Exception as e:\n",
    "        print('Radon failed:', e)\n",
    "    finally:\n",
    "        path.unlink()\n",
    "\n",
    "print('Radon on good code:')\n",
    "run_radon(good_code)\n",
    "print('Radon on complex code:')\n",
    "run_radon(complex_code)\n"
   ]
  }
 ],
 "metadata": {
  "kernelspec": {
   "display_name": ".venv",
   "language": "python",
   "name": "python3"
  },
  "language_info": {
   "codemirror_mode": {
    "name": "ipython",
    "version": 3
   },
   "file_extension": ".py",
   "mimetype": "text/x-python",
   "name": "python",
   "nbconvert_exporter": "python",
   "pygments_lexer": "ipython3",
   "version": "3.11.12"
  }
 },
 "nbformat": 4,
 "nbformat_minor": 5
}
