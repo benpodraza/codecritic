{
 "cells": [
  {
   "cell_type": "markdown",
   "metadata": {},
   "source": [
    "# Structured Logging Demo"
   ]
  },
  {
   "cell_type": "code",
   "execution_count": 1,
   "id": "b62d5da4",
   "metadata": {},
   "outputs": [],
   "source": [
    "import sys\n",
    "from pathlib import Path\n",
    "\n",
    "PROJECT_ROOT = Path.cwd().parent.parent\n",
    "sys.path.insert(0, str(PROJECT_ROOT))"
   ]
  },
  {
   "cell_type": "code",
   "execution_count": null,
   "id": "808f070b",
   "metadata": {},
   "outputs": [],
   "source": [
    "# import sqlite3\n",
    "# from importlib import import_module\n",
    "# from app.factories.logging_provider import LoggingProvider\n",
    "# from app.extensions.context_providers.dummy_context_provider import DummyContextProvider\n",
    "# from app.extensions.tool_providers.dummy_tool_provider import DummyToolProvider\n",
    "# from app.extensions.agents.dummy_agent import DummyAgent\n",
    "# from app.extensions.experiment_provider import ExperimentProvider"
   ]
  },
  {
   "cell_type": "code",
   "execution_count": 4,
   "id": "ac6ea491",
   "metadata": {},
   "outputs": [],
   "source": [
    "from app.utilities.db import init_db\n",
    "import sqlite3\n",
    "from app.factories.logging_provider import LoggingProvider\n",
    "from app.extensions.context_providers import DummyContextProvider\n",
    "from app.extensions.tool_providers import DummyToolProvider\n",
    "from app.extensions.agents import DummyAgent\n",
    "from app.extensions.experiment_provider import ExperimentProvider\n",
    "from app.extensions.state_managers import DummyStateManager\n",
    "from app.enums.system_enums import StateTransitionReason, SystemState\n",
    "\n",
    "# Connect to the in-memory database\n",
    "conn = sqlite3.connect(\":memory:\")\n",
    "\n",
    "# Initialize all required logging tables explicitly\n",
    "init_db(conn)\n",
    "\n",
    "# Pass the initialized connection to your logger\n",
    "logger = LoggingProvider(connection=conn)\n",
    "\n",
    "# Instantiate other components\n",
    "ctx = DummyContextProvider(logger=logger)\n",
    "tool = DummyToolProvider(logger=logger)\n",
    "agent = DummyAgent(logger=logger)\n",
    "\n",
    "# Correctly instantiate DummyStateManager with required dependencies\n",
    "state_manager = DummyStateManager(\n",
    "    scoring_function=lambda context: 1.0,\n",
    "    context_manager=ctx,\n",
    "    agent=agent,\n",
    "    logger=logger,\n",
    ")\n",
    "\n",
    "# Initialize Experiment\n",
    "exp = ExperimentProvider(\n",
    "    \"demo\",\n",
    "    \"demo experiment\",\n",
    "    \"test\",\n",
    "    \"v1\",\n",
    "    1,\n",
    "    0.0,\n",
    "    \"engine\",\n",
    "    \"eval\",\n",
    "    \"1.0\",\n",
    "    logger=logger,\n",
    ")\n",
    "\n",
    "# Run dummy components explicitly\n",
    "ctx.get_context(experiment_id=\"demo\", round=0)\n",
    "tool.run(experiment_id=\"demo\", round=0)\n",
    "agent.run(experiment_id=\"demo\", round=0)\n",
    "\n",
    "# Explicitly run state logic and transitions to test logging\n",
    "state_manager.run(\n",
    "    experiment_id=\"demo\", system=\"dummy_system\", state=SystemState.START, round=0\n",
    ")\n",
    "state_manager.transition_state(\n",
    "    experiment_id=\"demo\",\n",
    "    round=0,\n",
    "    from_state=SystemState.START,\n",
    "    to_state=SystemState.GENERATE,\n",
    "    reason=StateTransitionReason.AGENT_FAILURE,\n",
    ")\n",
    "\n",
    "exp.complete(1.0, True, \"done\")"
   ]
  },
  {
   "cell_type": "code",
   "execution_count": 6,
   "id": "75fd0239",
   "metadata": {},
   "outputs": [
    {
     "name": "stdout",
     "output_type": "stream",
     "text": [
      "{'context_retrieval_log': 2, 'tool_invocation_log': 1, 'agent_action_log': 3, 'system_event_log': 1, 'experiment_log': 1, 'state_log': 1, 'state_transition_log': 1}\n",
      "State Logs: [('demo', 'dummy_system', 0, 'SystemState.START', 'run_state_logic', None, None, '2025-05-19T05:57:41.768460+00:00')]\n",
      "State Transition Logs: [('demo', 0, 'SystemState.START', 'SystemState.GENERATE', 'StateTransitionReason.AGENT_FAILURE', '2025-05-19T05:57:41.769462+00:00')]\n"
     ]
    }
   ],
   "source": [
    "cur = conn.cursor()\n",
    "tables = [\n",
    "    \"context_retrieval_log\",\n",
    "    \"tool_invocation_log\",\n",
    "    \"agent_action_log\",\n",
    "    \"system_event_log\",\n",
    "    \"experiment_log\",\n",
    "    \"state_log\",\n",
    "    \"state_transition_log\",\n",
    "]\n",
    "counts = {t: cur.execute(f\"SELECT COUNT(*) FROM {t}\").fetchone()[0] for t in tables}\n",
    "print(counts)\n",
    "\n",
    "# View state log results explicitly\n",
    "state_logs = cur.execute(\"SELECT * FROM state_log\").fetchall()\n",
    "print(\"State Logs:\", state_logs)\n",
    "\n",
    "state_transition_logs = cur.execute(\"SELECT * FROM state_transition_log\").fetchall()\n",
    "print(\"State Transition Logs:\", state_transition_logs)"
   ]
  }
 ],
 "metadata": {
  "kernelspec": {
   "display_name": ".venv",
   "language": "python",
   "name": "python3"
  },
  "language_info": {
   "codemirror_mode": {
    "name": "ipython",
    "version": 3
   },
   "file_extension": ".py",
   "mimetype": "text/x-python",
   "name": "python",
   "nbconvert_exporter": "python",
   "pygments_lexer": "ipython3",
   "version": "3.12.6"
  }
 },
 "nbformat": 4,
 "nbformat_minor": 5
}
