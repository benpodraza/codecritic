{
 "cells": [
  {
   "cell_type": "code",
   "execution_count": null,
   "id": "demo9",
   "metadata": {},
   "outputs": [
    {
     "name": "stdout",
     "output_type": "stream",
     "text": [
      "{\"experiment_id\": \"exp\", \"round\": 0, \"system\": \"system\", \"agent_id\": \"generator\", \"agent_role\": \"AgentRole.GENERATOR\", \"agent_engine\": null, \"symbol\": \"tmp_demo.py\", \"prompt\": \"format code\", \"response\": null, \"attempt_number\": 0, \"agent_action_outcome\": \"success\", \"start\": \"2025-05-18T11:23:41.641821+00:00\", \"stop\": \"2025-05-18T11:23:41.927913+00:00\"}\n",
      "[WindowsPath('experiments/demo_snapshots/exp/0/tmp_demo.py.20250518T111524946135Z.before'), WindowsPath('experiments/demo_snapshots/exp/0/tmp_demo.py.20250518T111833025465Z.before'), WindowsPath('experiments/demo_snapshots/exp/0/tmp_demo.py.20250518T111931731444Z.before'), WindowsPath('experiments/demo_snapshots/exp/0/tmp_demo.py.20250518T111937897552Z.before'), WindowsPath('experiments/demo_snapshots/exp/0/tmp_demo.py.20250518T112000935731Z.before'), WindowsPath('experiments/demo_snapshots/exp/0/tmp_demo.py.20250518T112050556348Z.before'), WindowsPath('experiments/demo_snapshots/exp/0/tmp_demo.py.20250518T112243555914Z.before'), WindowsPath('experiments/demo_snapshots/exp/0/tmp_demo.py.20250518T112322747642Z.before'), WindowsPath('experiments/demo_snapshots/exp/0/tmp_demo.py.20250518T112341928913Z.before')]\n"
     ]
    }
   ],
   "source": [
    "from importlib import import_module\n",
    "from pathlib import Path\n",
    "\n",
    "from app.factories.logging_provider import LoggingProvider\n",
    "from app.utilities.snapshots.snapshot_writer import SnapshotWriter\n",
    "from app.factories.agent import AgentFactory\n",
    "\n",
    "import_module(\"app.extensions.agents\")\n",
    "import_module(\"app.extensions.tool_providers\")\n",
    "\n",
    "logger = LoggingProvider(\n",
    "    db_path=\"experiments/demo.sqlite3\", output_path=\"experiments/demo_logs.jsonl\"\n",
    ")\n",
    "writer = SnapshotWriter(root=\"experiments/demo_snapshots\")\n",
    "\n",
    "tmp = Path(\"tmp_demo.py\")\n",
    "tmp.write_text(\"x=1\")\n",
    "\n",
    "agent = AgentFactory.create(\n",
    "    \"generator\", target=str(tmp), logger=logger, snapshot_writer=writer\n",
    ")\n",
    "agent.run()\n",
    "logger.close()\n",
    "\n",
    "with open(\"experiments/demo_logs.jsonl\") as fh:\n",
    "    for line in fh:\n",
    "        print(line.strip())\n",
    "\n",
    "print(sorted(Path(\"experiments/demo_snapshots/exp/0\").glob(\"*.before\")))"
   ]
  }
 ],
 "metadata": {
  "kernelspec": {
   "display_name": ".venv",
   "language": "python",
   "name": "python3"
  },
  "language_info": {
   "codemirror_mode": {
    "name": "ipython",
    "version": 3
   },
   "file_extension": ".py",
   "mimetype": "text/x-python",
   "name": "python",
   "nbconvert_exporter": "python",
   "pygments_lexer": "ipython3",
   "version": "3.12.6"
  }
 },
 "nbformat": 4,
 "nbformat_minor": 5
}
