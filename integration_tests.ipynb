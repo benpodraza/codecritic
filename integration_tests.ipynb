{
 "cells": [
  {
   "cell_type": "markdown",
   "id": "58f9dea9",
   "metadata": {},
   "source": [
    "# Integration Tests\n",
    "This notebook demonstrates running agents via the registry with a stub engine for testing."
   ]
  },
  {
   "cell_type": "code",
   "execution_count": 34,
   "id": "8ce01d62",
   "metadata": {},
   "outputs": [],
   "source": [
    "import os, sys, types\n",
    "from pathlib import Path\n",
    "from app.utils.agent_factory import build_agent\n",
    "from app.utils.symbol_graph.symbol_service import SymbolService\n",
    "\n",
    "# Fake engine to avoid OpenAI dependency\n",
    "class FakeEngine:\n",
    "    def __init__(self):\n",
    "        self.calls = []\n",
    "    def call_engine(self, prompt: str, config: dict):\n",
    "        self.calls.append(prompt)\n",
    "        return '# transformed code'\n",
    "\n",
    "fake_mod = types.SimpleNamespace(OpenAiGpt4oAgentEngineRunner=FakeEngine)\n",
    "sys.modules['app.utils.engine.openai_gpt4o_runner'] = fake_mod\n",
    "os.environ['OPENAI_API_KEY'] = 'fake'\n",
    "\n",
    "symbol_service = SymbolService(Path('.'))\n",
    "log_path = Path('integration_logs/prompt_log.jsonl')\n",
    "log_path.parent.mkdir(exist_ok=True)"
   ]
  },
  {
   "cell_type": "markdown",
   "id": "40a73b7a",
   "metadata": {},
   "source": [
    "## Test 1: Generator Agent\n",
    "Run the generator agent on a sample file."
   ]
  },
  {
   "cell_type": "code",
   "execution_count": 35,
   "id": "b74202ae",
   "metadata": {},
   "outputs": [
    {
     "name": "stdout",
     "output_type": "stream",
     "text": [
      "Generator output: # transformed code\n"
     ]
    }
   ],
   "source": [
    "agent = build_agent('generator', symbol_service)\n",
    "result1 = agent.run({'symbol': 'my_symbol', 'file': 'tests/data/test_context_provider_preprocessor/example.py', 'experiment_id': 'demo', 'run_id': '1', 'round': 1, 'system': 'demo', 'log_path': log_path})\n",
    "print('Generator output:', result1['response'][:60])"
   ]
  },
  {
   "cell_type": "markdown",
   "id": "2bd1a206",
   "metadata": {},
   "source": [
    "## Test: discriminator agent"
   ]
  },
  {
   "cell_type": "code",
   "execution_count": 36,
   "id": "fe921d0c",
   "metadata": {},
   "outputs": [
    {
     "name": "stdout",
     "output_type": "stream",
     "text": [
      "discriminator result: # transformed code\n"
     ]
    }
   ],
   "source": [
    "agent = build_agent('discriminator', symbol_service)\n",
    "res = agent.run({'symbol': 'my_symbol', 'file': 'tests/data/test_context_provider_preprocessor/example.py', 'experiment_id': 'demo', 'run_id': 'discriminator', 'round': 1, 'system': 'demo', 'log_path': log_path})\n",
    "print('discriminator result:', res['response'][:40])"
   ]
  },
  {
   "cell_type": "markdown",
   "id": "3de77f7a",
   "metadata": {},
   "source": [
    "## Test: mediator agent"
   ]
  },
  {
   "cell_type": "code",
   "execution_count": 37,
   "id": "79b23981",
   "metadata": {},
   "outputs": [
    {
     "name": "stdout",
     "output_type": "stream",
     "text": [
      "mediator result: # transformed code\n"
     ]
    }
   ],
   "source": [
    "agent = build_agent('mediator', symbol_service)\n",
    "res = agent.run({'symbol': 'my_symbol', 'file': 'tests/data/test_context_provider_preprocessor/example.py', 'experiment_id': 'demo', 'run_id': 'mediator', 'round': 1, 'system': 'demo', 'log_path': log_path})\n",
    "print('mediator result:', res['response'][:40])"
   ]
  },
  {
   "cell_type": "markdown",
   "id": "9f8f2781",
   "metadata": {},
   "source": [
    "## Test: patchor agent"
   ]
  },
  {
   "cell_type": "code",
   "execution_count": 38,
   "id": "e75019ab",
   "metadata": {},
   "outputs": [
    {
     "name": "stdout",
     "output_type": "stream",
     "text": [
      "patchor result: # transformed code\n",
      "\n",
      "# === AI-FIRST METAD\n"
     ]
    }
   ],
   "source": [
    "agent = build_agent('patchor', symbol_service)\n",
    "res = agent.run({'symbol': 'my_symbol', 'file': 'tests/data/test_context_provider_preprocessor/example.py', 'experiment_id': 'demo', 'run_id': 'patchor', 'round': 1, 'system': 'demo', 'log_path': log_path})\n",
    "print('patchor result:', res['response'][:40])"
   ]
  },
  {
   "cell_type": "markdown",
   "id": "7746717b",
   "metadata": {},
   "source": [
    "## Test: recommender agent"
   ]
  },
  {
   "cell_type": "code",
   "execution_count": 39,
   "id": "5b70bf91",
   "metadata": {},
   "outputs": [
    {
     "name": "stdout",
     "output_type": "stream",
     "text": [
      "recommender result: # transformed code\n"
     ]
    }
   ],
   "source": [
    "agent = build_agent('recommender', symbol_service)\n",
    "res = agent.run({'symbol': 'my_symbol', 'file': 'tests/data/test_context_provider_preprocessor/example.py', 'experiment_id': 'demo', 'run_id': 'recommender', 'round': 1, 'system': 'demo', 'log_path': log_path})\n",
    "print('recommender result:', res['response'][:40])"
   ]
  },
  {
   "cell_type": "markdown",
   "id": "6e7b3c5d",
   "metadata": {},
   "source": [
    "## Test: generator agent"
   ]
  },
  {
   "cell_type": "code",
   "execution_count": 40,
   "id": "78f26a75",
   "metadata": {},
   "outputs": [
    {
     "name": "stdout",
     "output_type": "stream",
     "text": [
      "generator result: # transformed code\n"
     ]
    }
   ],
   "source": [
    "agent = build_agent('generator', symbol_service)\n",
    "res = agent.run({'symbol': 'my_symbol', 'file': 'tests/data/test_context_provider_preprocessor/example.py', 'experiment_id': 'demo', 'run_id': 'generator', 'round': 1, 'system': 'demo', 'log_path': log_path})\n",
    "print('generator result:', res['response'][:40])"
   ]
  },
  {
   "cell_type": "markdown",
   "id": "64b473f2",
   "metadata": {},
   "source": [
    "## Test: discriminator agent"
   ]
  },
  {
   "cell_type": "code",
   "execution_count": 41,
   "id": "498eed5d",
   "metadata": {},
   "outputs": [
    {
     "name": "stdout",
     "output_type": "stream",
     "text": [
      "discriminator result: # transformed code\n"
     ]
    }
   ],
   "source": [
    "agent = build_agent('discriminator', symbol_service)\n",
    "res = agent.run({'symbol': 'my_symbol', 'file': 'tests/data/test_context_provider_preprocessor/example.py', 'experiment_id': 'demo', 'run_id': 'discriminator', 'round': 1, 'system': 'demo', 'log_path': log_path})\n",
    "print('discriminator result:', res['response'][:40])"
   ]
  },
  {
   "cell_type": "markdown",
   "id": "246ce377",
   "metadata": {},
   "source": [
    "## Test: mediator agent"
   ]
  },
  {
   "cell_type": "code",
   "execution_count": 42,
   "id": "305e1bcd",
   "metadata": {},
   "outputs": [
    {
     "name": "stdout",
     "output_type": "stream",
     "text": [
      "mediator result: # transformed code\n"
     ]
    }
   ],
   "source": [
    "agent = build_agent('mediator', symbol_service)\n",
    "res = agent.run({'symbol': 'my_symbol', 'file': 'tests/data/test_context_provider_preprocessor/example.py', 'experiment_id': 'demo', 'run_id': 'mediator', 'round': 1, 'system': 'demo', 'log_path': log_path})\n",
    "print('mediator result:', res['response'][:40])"
   ]
  },
  {
   "cell_type": "markdown",
   "id": "aa6c1bb3",
   "metadata": {},
   "source": [
    "## Test: patchor agent"
   ]
  },
  {
   "cell_type": "code",
   "execution_count": 43,
   "id": "6e9c765d",
   "metadata": {},
   "outputs": [
    {
     "name": "stdout",
     "output_type": "stream",
     "text": [
      "patchor result: # transformed code\n",
      "\n",
      "# === AI-FIRST METAD\n"
     ]
    }
   ],
   "source": [
    "agent = build_agent('patchor', symbol_service)\n",
    "res = agent.run({'symbol': 'my_symbol', 'file': 'tests/data/test_context_provider_preprocessor/example.py', 'experiment_id': 'demo', 'run_id': 'patchor', 'round': 1, 'system': 'demo', 'log_path': log_path})\n",
    "print('patchor result:', res['response'][:40])"
   ]
  },
  {
   "cell_type": "markdown",
   "id": "8a0a615e",
   "metadata": {},
   "source": [
    "## Test: recommender agent"
   ]
  },
  {
   "cell_type": "code",
   "execution_count": 44,
   "id": "55450a0a",
   "metadata": {},
   "outputs": [
    {
     "name": "stdout",
     "output_type": "stream",
     "text": [
      "recommender result: # transformed code\n"
     ]
    }
   ],
   "source": [
    "agent = build_agent('recommender', symbol_service)\n",
    "res = agent.run({'symbol': 'my_symbol', 'file': 'tests/data/test_context_provider_preprocessor/example.py', 'experiment_id': 'demo', 'run_id': 'recommender', 'round': 1, 'system': 'demo', 'log_path': log_path})\n",
    "print('recommender result:', res['response'][:40])"
   ]
  },
  {
   "cell_type": "markdown",
   "id": "330221e5",
   "metadata": {},
   "source": [
    "## Log Verification"
   ]
  },
  {
   "cell_type": "code",
   "execution_count": 45,
   "id": "7e2cc054",
   "metadata": {},
   "outputs": [
    {
     "name": "stdout",
     "output_type": "stream",
     "text": [
      "entries: 12\n",
      "{'PatchAgent', 'RecommenderAgent'}\n"
     ]
    }
   ],
   "source": [
    "import json\n",
    "\n",
    "lines = [json.loads(l) for l in log_path.read_text().splitlines()]\n",
    "print('entries:', len(lines))\n",
    "\n",
    "# Only include entries with 'agent_role'\n",
    "agent_roles = {e['agent_role'] for e in lines if 'agent_role' in e}\n",
    "print(agent_roles)\n"
   ]
  },
  {
   "cell_type": "markdown",
   "id": "1df71e06",
   "metadata": {},
   "source": [
    "## Basic Analysis"
   ]
  },
  {
   "cell_type": "code",
   "execution_count": 46,
   "id": "cbae8a70",
   "metadata": {},
   "outputs": [
    {
     "name": "stdout",
     "output_type": "stream",
     "text": [
      "Counter({'RecommenderAgent': 6, 'PatchAgent': 6})\n"
     ]
    }
   ],
   "source": [
    "from collections import Counter\n",
    "counts=Counter(e['agent_role'] for e in lines)\n",
    "print(counts)"
   ]
  },
  {
   "cell_type": "code",
   "execution_count": 47,
   "id": "ebd02cbd",
   "metadata": {},
   "outputs": [
    {
     "name": "stdout",
     "output_type": "stream",
     "text": [
      "Skipped entry (missing keys): {'experiment_id': 'demo', 'run_id': 'recommender', 'round': 1, 'agent_role': 'RecommenderAgent', 'target': 'my_symbol', 'content': '# transformed code', 'originating_agent': 'RecommenderAgent', 'timestamp': '2025-05-17T10:18:03.636372Z'}\n",
      "Skipped entry (missing keys): {'experiment_id': 'demo', 'run_id': 'recommender', 'round': 1, 'agent_role': 'RecommenderAgent', 'target': 'my_symbol', 'content': '# transformed code', 'originating_agent': 'RecommenderAgent', 'timestamp': '2025-05-17T10:18:04.236901Z'}\n"
     ]
    }
   ],
   "source": [
    "for e in lines[:2]:\n",
    "    if 'agent_role' in e and 'response' in e:\n",
    "        print(e['agent_role'], '->', e['response'][:30])\n",
    "    else:\n",
    "        print(\"Skipped entry (missing keys):\", e)\n"
   ]
  }
 ],
 "metadata": {
  "kernelspec": {
   "display_name": "Python 3",
   "language": "python",
   "name": "python3"
  },
  "language_info": {
   "name": "python",
   "version": "3.11"
  }
 },
 "nbformat": 4,
 "nbformat_minor": 5
}
