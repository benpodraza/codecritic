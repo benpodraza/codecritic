{
 "cells": [
  {
   "cell_type": "code",
   "execution_count": null,
   "metadata": {},
   "outputs": [],
   "source": [
    "from app.utilities.schema import initialize_database\n",
    "conn = initialize_database()\n"
   ]
  },
  {
   "cell_type": "code",
   "execution_count": null,
   "metadata": {},
   "outputs": [],
   "source": [
    "tables = ['agent_engine', 'agent_prompt', 'system_prompt']\n",
    "for t in tables:\n",
    "    rows = conn.execute(f'SELECT * FROM {t}').fetchall()\n",
    "    print(t, rows)\n"
   ]
  }
 ],
 "metadata": {
  "kernelspec": {
   "display_name": "Python 3",
   "language": "python",
   "name": "python3"
  },
  "language_info": {
   "name": "python",
   "version": "3.11"
  }
 },
 "nbformat": 4,
 "nbformat_minor": 5
}
