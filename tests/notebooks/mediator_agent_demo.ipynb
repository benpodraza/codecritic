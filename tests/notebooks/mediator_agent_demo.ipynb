{
 "cells": [
  {
   "cell_type": "markdown",
   "metadata": {},
   "source": [
    "## Mediator Agent Demo"
   ]
  },
  {
   "cell_type": "markdown",
   "metadata": {},
   "source": [
    "This notebook demonstrates running the `MediatorAgent` to resolve conflicts between generator and evaluator outputs."
   ]
  },
  {
   "cell_type": "code",
   "execution_count": 1,
   "id": "c1",
   "metadata": {},
   "outputs": [],
   "source": [
    "from importlib import import_module\n",
    "from app.factories.agent import AgentFactory\n",
    "\n",
    "import_module('app.extensions.agents')\n",
    "\n",
    "code = 'def add(x, y):\\n    return x + y'\n",
    "metrics = {'lint_errors': 1, 'maintainability_index': 60}\n",
    "agent = AgentFactory.create('mediator', target='demo.py')\n",
    "agent.run(generator_output=code, evaluation_metrics=metrics)\n",
    "log = agent.conversation_logs[0]"
   ]
  },
  {
   "cell_type": "code",
   "execution_count": 2,
   "id": "c2",
   "metadata": {},
   "outputs": [],
   "source": [
    "print('Mediator recommendation:', log.content)"
   ]
  }
 ],
 "metadata": {
  "kernelspec": {
   "display_name": ".venv",
   "language": "python",
   "name": "python3"
  },
  "language_info": {
   "codemirror_mode": {"name": "ipython", "version": 3},
   "file_extension": ".py",
   "mimetype": "text/x-python",
   "name": "python",
   "nbconvert_exporter": "python",
   "pygments_lexer": "ipython3",
   "version": "3.12.6"
  }
 },
 "nbformat": 4,
 "nbformat_minor": 5
}
