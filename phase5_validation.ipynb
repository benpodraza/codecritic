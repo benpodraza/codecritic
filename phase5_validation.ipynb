{
 "cells": [
  {
   "cell_type": "code",
   "execution_count": 1,
   "id": "phase5-demo",
   "metadata": {},
   "outputs": [
    {
     "name": "stdout",
     "output_type": "stream",
     "text": [
      "{'bug_fix_success_rate': 1.0, 'functional_correctness': 1.0, 'avg_test_pass_rate': 0.5, 'maintainability_index': 5.0, 'cyclomatic_complexity': 1.5, 'linting_compliance_rate': 0.5, 'iterations_to_convergence': 2, 'intervention_frequency': 1.0, 'agent_role_success_rate': 1.0, 'retry_success_rate': 1.0, 'mediation_success_rate': 1.0}\n",
      "{'bug_fix_success_rate': 1.0, 'functional_correctness': 1.0, 'avg_test_pass_rate': 0.5, 'maintainability_index': 5.0, 'cyclomatic_complexity': 1.5, 'linting_compliance_rate': 0.5, 'iterations_to_convergence': 2, 'intervention_frequency': 1.0, 'agent_role_success_rate': 1.0, 'retry_success_rate': 1.0, 'mediation_success_rate': 1.0}\n"
     ]
    }
   ],
   "source": [
    "from app.utilities.metrics import compute_metrics\n",
    "from app.extensions.scoring_models.basic_scoring_provider import BasicScoringProvider\n",
    "\n",
    "evaluation_logs = [\n",
    "    {\"bug_fixed\": True, \"all_tests_passed\": True, \"tests_total\": 2, \"tests_passed\": 2},\n",
    "    {\n",
    "        \"bug_fixed\": False,\n",
    "        \"all_tests_passed\": False,\n",
    "        \"tests_total\": 2,\n",
    "        \"tests_passed\": 0,\n",
    "    },\n",
    "]\n",
    "code_quality_logs = [\n",
    "    {\"maintainability_index\": 5, \"cyclomatic_complexity\": 1, \"lint_errors\": 0},\n",
    "    {\"maintainability_index\": 5, \"cyclomatic_complexity\": 2, \"lint_errors\": 1},\n",
    "]\n",
    "conversation_logs = [\n",
    "    {\"intervention\": True, \"intervention_type\": \"mediation\"},\n",
    "    {\"intervention\": False, \"intervention_type\": \"mediation\"},\n",
    "]\n",
    "prompt_logs = [\n",
    "    {\"agent_action_outcome\": \"success\", \"attempt_number\": 0},\n",
    "    {\"agent_action_outcome\": \"success\", \"attempt_number\": 1},\n",
    "]\n",
    "state_logs = [\n",
    "    {\"round\": 0},\n",
    "    {\"round\": 1},\n",
    "]\n",
    "\n",
    "metrics = compute_metrics(\n",
    "    evaluation_logs, code_quality_logs, conversation_logs, prompt_logs, state_logs\n",
    ")\n",
    "print(metrics)\n",
    "provider = BasicScoringProvider()\n",
    "print(\n",
    "    provider.score(\n",
    "        {\n",
    "            \"evaluation\": evaluation_logs,\n",
    "            \"code_quality\": code_quality_logs,\n",
    "            \"conversation\": conversation_logs,\n",
    "            \"prompt\": prompt_logs,\n",
    "            \"state\": state_logs,\n",
    "        }\n",
    "    )\n",
    ")"
   ]
  }
 ],
 "metadata": {
  "kernelspec": {
   "display_name": ".venv",
   "language": "python",
   "name": "python3"
  },
  "language_info": {
   "codemirror_mode": {
    "name": "ipython",
    "version": 3
   },
   "file_extension": ".py",
   "mimetype": "text/x-python",
   "name": "python",
   "nbconvert_exporter": "python",
   "pygments_lexer": "ipython3",
   "version": "3.12.6"
  }
 },
 "nbformat": 4,
 "nbformat_minor": 5
}
