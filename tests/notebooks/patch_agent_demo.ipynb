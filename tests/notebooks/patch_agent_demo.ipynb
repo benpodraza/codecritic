{
 "cells": [
  {
   "cell_type": "markdown",
   "metadata": {},
   "source": [
    "## Patch Agent Demo"
   ]
  },
  {
   "cell_type": "markdown",
   "metadata": {},
   "source": [
    "This notebook demonstrates applying mediator recommendations with the `PatchAgent`."
   ]
  },
  {
   "cell_type": "code",
   "execution_count": 1,
   "metadata": {},
   "outputs": [],
   "source": [
    "from importlib import import_module\n",
    "from pathlib import Path\n",
    "import json\n",
    "\n",
    "from app.factories.agent import AgentFactory\n",
    "from app.factories.logging_provider import LoggingProvider, ConversationLog\n",
    "from app.utilities.snapshots.snapshot_writer import SnapshotWriter\n",
    "from app.enums.agent_enums import AgentRole\n",
    "\n",
    "import_module(\"app.extensions.agents\")\n",
    "import_module(\"app.extensions.tool_providers\")\n",
    "\n",
    "demo = Path(\"demo_patch.py\")\n",
    "demo.write_text(\"value = 1\\n\")\n",
    "logger = LoggingProvider(db_path=\":memory:\")\n",
    "writer = SnapshotWriter(root=\"demo_snap\")\n",
    "agent = AgentFactory.create(\"patch\", target=str(demo), logger=logger, snapshot_writer=writer)\n",
    "conv = ConversationLog(\n",
    "    experiment_id=\"exp\",\n",
    "    round=0,\n",
    "    agent_role=AgentRole.MEDIATOR,\n",
    "    target=str(demo),\n",
    "    content=json.dumps([{'op':'replace','from':'1','to':'2'}]),\n",
    "    originating_agent=\"mediator\",\n",
    "    intervention=True,\n",
    ")\n",
    "agent.run(recommendations=[conv])\n",
    "metrics = agent.quality_logs[0]"
   ]
  },
  {
   "cell_type": "code",
   "execution_count": 2,
   "metadata": {},
   "outputs": [
    {
     "name": "stdout",
     "output_type": "stream",
     "text": [
      "Cyclomatic Complexity: ",
      "1.0\n",
      "Maintainability Index: ",
      "90.0\n"
     ]
    }
   ],
   "source": [
    "print(\"Cyclomatic Complexity: ", metrics.cyclomatic_complexity)\n",
    "print(\"Maintainability Index: ", metrics.maintainability_index)"
   ]
  }
 ],
 "metadata": {
  "kernelspec": {
   "display_name": ".venv",
   "language": "python",
   "name": "python3"
  },
  "language_info": {
   "name": "python",
   "version": "3.12.6"
  }
 },
 "nbformat": 4,
 "nbformat_minor": 5
}
