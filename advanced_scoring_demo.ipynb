{
 "cells": [
  {
   "cell_type": "code",
   "execution_count": null,
   "metadata": {},
   "outputs": [],
   "source": [
    "from app.extensions.scoring_models import AdvancedScoringProvider",
    "from app.factories.logging_provider import CodeQualityLog, RecommendationLog"
   ]
  },
  {
   "cell_type": "code",
   "execution_count": null,
   "metadata": {},
   "outputs": [],
   "source": [
    "provider = AdvancedScoringProvider()",
    "logs = {",
    "    'code_quality': [CodeQualityLog(experiment_id='exp', round=0, symbol='m', lines_of_code=10, cyclomatic_complexity=5.0, maintainability_index=80.0, lint_errors=0)],",
    "    'recommendation': [RecommendationLog(experiment_id='exp', round=0, symbol='m', file_path='m.py', line_start=0, line_end=0, recommendation='{}', context='ctx')]",
    "}"
   ]
  },
  {
   "cell_type": "code",
   "execution_count": null,
   "metadata": {},
   "outputs": [],
   "source": [
    "provider.score(logs, experiment_id='exp')"
   ]
  }
 ],
 "metadata": {
  "kernelspec": {
   "display_name": "Python 3",
   "language": "python",
   "name": "python3"
  },
  "language_info": {
   "name": "python",
   "version": "3.10"
  }
 },
 "nbformat": 4,
 "nbformat_minor": 5
}
