{
 "cells": [
  {
   "cell_type": "markdown",
   "metadata": {},
   "source": [
    "# Integration Tests\n",
    "This notebook demonstrates a simple end-to-end run using the registry-based agent factory.\n",
    "Each test is preceded by a markdown cell describing the goal and expected output."
   ]
  },
  {
   "cell_type": "markdown",
   "metadata": {},
   "source": [
    "## Setup\n",
    "Patch the OpenAI engine and tool provider so the notebook can run without external dependencies."
   ]
  },
  {
   "cell_type": "code",
   "execution_count": null,
   "metadata": {},
   "outputs": [],
   "source": [
    "import os, sys, types\n",
    "from pathlib import Path\n",
    "\n",
    "# Fake engine avoids network calls\n",
    "class FakeEngine:\n",
    "    def call_engine(self, prompt: str, config: dict):\n",
    "        return 'fake response'\n",
    "\n",
    "# Stub jinja2 Template to a pass-through string\n",
    "sys.modules['jinja2'] = types.SimpleNamespace(Template=lambda x: x)\n",
    "\n",
    "# Provide a minimal tool provider that just echoes the input\n",
    "from app.utils.tools.tool_result import ToolResult\n",
    "class DummyToolProvider:\n",
    "    def run_tool(self, name: str, code: str) -> ToolResult:\n",
    "        return ToolResult(tool=name, status='success', output=code, metadata={})\n",
    "\n",
    "fake_engine_module = types.SimpleNamespace(OpenAiGpt4oAgentEngineRunner=FakeEngine)\n",
    "sys.modules['app.utils.engine.openai_gpt4o_runner'] = fake_engine_module\n",
    "sys.modules['app.tool_providers.preprocessing_tool_provider'] = types.SimpleNamespace(PreprocessingToolProvider=DummyToolProvider)\n",
    "os.environ['OPENAI_API_KEY'] = 'fake'\n"
   ]
  },
  {
   "cell_type": "markdown",
   "metadata": {},
   "source": [
    "## Test 1: Build a generator agent\n",
    "We build an agent using `build_agent`. The result should be an instance of `GeneratorAgent`."
   ]
  },
  {
   "cell_type": "code",
   "execution_count": null,
   "metadata": {},
   "outputs": [],
   "source": [
    "from app.utils.agent_factory import build_agent\n",
    "from app.registries.agent_registry import AGENT_REGISTRY\n",
    "from app.utils.symbol_graph.symbol_service import SymbolService\n",
    "\n",
    "symbol_service = SymbolService(Path('tests/data/test_context_provider_preprocessor'))\n",
    "agent = build_agent('generator', symbol_service)\n",
    "type(agent).__name__"
   ]
  },
  {
   "cell_type": "markdown",
   "metadata": {},
   "source": [
    "## Test 2: Run the agent\n",
    "Running the agent on a test file should return a dictionary containing the generated response."
   ]
  },
  {
   "cell_type": "code",
   "execution_count": null,
   "metadata": {},
   "outputs": [],
   "source": [
    "log_path = Path('integration_logs/prompt_log.jsonl')\n",
    "log_path.parent.mkdir(exist_ok=True)\n",
    "\n",
    "result = agent.run({\n",
    "    'symbol': 'my_symbol',\n",
    "    'file': 'tests/data/test_context_provider_preprocessor/example.py',\n",
    "    'experiment_id': 'demo',\n",
    "    'run_id': '1',\n",
    "    'round': 1,\n",
    "    'system': 'demo',\n",
    "    'log_path': log_path\n",
    "})\n",
    "result['response'][:20] + '...'"
   ]
  },
  {
   "cell_type": "markdown",
   "metadata": {},
   "source": [
    "## Test 3: Inspect the log output\n",
    "Read the JSONL log file and display its contents to verify that logging occurred."
   ]
  },
  {
   "cell_type": "code",
   "execution_count": null,
   "metadata": {},
   "outputs": [],
   "source": [
    "import json\n",
    "log_entries = [json.loads(line) for line in log_path.read_text().splitlines()]\n",
    "log_entries"
   ]
  }
 ],
 "metadata": {
  "kernelspec": {
   "display_name": "Python 3", 
   "language": "python", 
   "name": "python3"
  },
  "language_info": {
   "name": "python", 
   "version": "3.10"
  }
 },
 "nbformat": 4, 
 "nbformat_minor": 2
}
