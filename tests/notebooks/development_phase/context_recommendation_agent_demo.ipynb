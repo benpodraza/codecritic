{
 "cells": [
  {
   "cell_type": "markdown",
   "metadata": {},
   "source": [
    "# Context-Aware Recommendation Agent Demo\n",
    "This notebook demonstrates how the `RecommendationAgent` leverages `SymbolGraphProvider` context to produce structured recommendations."
   ]
  },
  {
   "cell_type": "code",
   "execution_count": 1,
   "id": "c5d8c5e3",
   "metadata": {},
   "outputs": [],
   "source": [
    "from importlib import import_module\n",
    "from pathlib import Path\n",
    "from app.factories.agent import AgentFactory\n",
    "from app.factories.logging_provider import ConversationLog, CodeQualityLog, ScoringLog\n",
    "from app.extensions.context_providers.symbol_graph_provider import SymbolGraphProvider\n",
    "from app.enums.agent_enums import AgentRole\n",
    "from app.enums.scoring_enums import ScoringMetric\n",
    "import pandas as pd"
   ]
  },
  {
   "cell_type": "code",
   "execution_count": 2,
   "id": "c69638e4",
   "metadata": {},
   "outputs": [
    {
     "data": {
      "application/vnd.microsoft.datawrangler.viewer.v0+json": {
       "columns": [
        {
         "name": "index",
         "rawType": "int64",
         "type": "integer"
        },
        {
         "name": "experiment_id",
         "rawType": "object",
         "type": "string"
        },
        {
         "name": "round",
         "rawType": "int64",
         "type": "integer"
        },
        {
         "name": "symbol",
         "rawType": "object",
         "type": "string"
        },
        {
         "name": "file_path",
         "rawType": "object",
         "type": "string"
        },
        {
         "name": "line_start",
         "rawType": "int64",
         "type": "integer"
        },
        {
         "name": "line_end",
         "rawType": "int64",
         "type": "integer"
        },
        {
         "name": "recommendation",
         "rawType": "object",
         "type": "string"
        },
        {
         "name": "context",
         "rawType": "object",
         "type": "string"
        },
        {
         "name": "timestamp",
         "rawType": "datetime64[ns, UTC]",
         "type": "unknown"
        }
       ],
       "conversionMethod": "pd.DataFrame",
       "ref": "dcddc47c-04e9-47e8-8c18-3a5e38a5910f",
       "rows": [
        [
         "0",
         "exp",
         "0",
         "sample_module.py",
         "sample_module.py",
         "0",
         "0",
         "[\n  {\n    \"action\": \"remove_unused_symbol\",\n    \"target\": \"sample_module.Bar\",\n    \"rationale\": \"Symbol 'None' is defined but not used\"\n  },\n  {\n    \"action\": \"remove_unused_symbol\",\n    \"target\": \"sample_module.Bar.baz\",\n    \"rationale\": \"Symbol 'baz' is defined but not used\"\n  },\n  {\n    \"action\": \"remove_unused_symbol\",\n    \"target\": \"sample_module.baz\",\n    \"rationale\": \"Symbol 'baz' is defined but not used\"\n  },\n  {\n    \"action\": \"general\",\n    \"message\": \"Fix lint errors\"\n  },\n  {\n    \"action\": \"general\",\n    \"message\": \"Refactor to improve maintainability\"\n  },\n  {\n    \"action\": \"general\",\n    \"message\": \"Simplify to reduce complexity\"\n  },\n  {\n    \"action\": \"general\",\n    \"message\": \"Improve score for coverage\"\n  },\n  {\n    \"action\": \"general\",\n    \"message\": \"Use list comprehension\"\n  }\n]",
         "symbol graph analysis; lint issues detected; low maintainability; high complexity; low score coverage; prior intervention",
         "2025-05-18 20:14:16.989292+00:00"
        ]
       ],
       "shape": {
        "columns": 9,
        "rows": 1
       }
      },
      "text/html": [
       "<div>\n",
       "<style scoped>\n",
       "    .dataframe tbody tr th:only-of-type {\n",
       "        vertical-align: middle;\n",
       "    }\n",
       "\n",
       "    .dataframe tbody tr th {\n",
       "        vertical-align: top;\n",
       "    }\n",
       "\n",
       "    .dataframe thead th {\n",
       "        text-align: right;\n",
       "    }\n",
       "</style>\n",
       "<table border=\"1\" class=\"dataframe\">\n",
       "  <thead>\n",
       "    <tr style=\"text-align: right;\">\n",
       "      <th></th>\n",
       "      <th>experiment_id</th>\n",
       "      <th>round</th>\n",
       "      <th>symbol</th>\n",
       "      <th>file_path</th>\n",
       "      <th>line_start</th>\n",
       "      <th>line_end</th>\n",
       "      <th>recommendation</th>\n",
       "      <th>context</th>\n",
       "      <th>timestamp</th>\n",
       "    </tr>\n",
       "  </thead>\n",
       "  <tbody>\n",
       "    <tr>\n",
       "      <th>0</th>\n",
       "      <td>exp</td>\n",
       "      <td>0</td>\n",
       "      <td>sample_module.py</td>\n",
       "      <td>sample_module.py</td>\n",
       "      <td>0</td>\n",
       "      <td>0</td>\n",
       "      <td>[\\n  {\\n    \"action\": \"remove_unused_symbol\",\\...</td>\n",
       "      <td>symbol graph analysis; lint issues detected; l...</td>\n",
       "      <td>2025-05-18 20:14:16.989292+00:00</td>\n",
       "    </tr>\n",
       "  </tbody>\n",
       "</table>\n",
       "</div>"
      ],
      "text/plain": [
       "  experiment_id  round            symbol         file_path  line_start  \\\n",
       "0           exp      0  sample_module.py  sample_module.py           0   \n",
       "\n",
       "   line_end                                     recommendation  \\\n",
       "0         0  [\\n  {\\n    \"action\": \"remove_unused_symbol\",\\...   \n",
       "\n",
       "                                             context  \\\n",
       "0  symbol graph analysis; lint issues detected; l...   \n",
       "\n",
       "                         timestamp  \n",
       "0 2025-05-18 20:14:16.989292+00:00  "
      ]
     },
     "execution_count": 2,
     "metadata": {},
     "output_type": "execute_result"
    }
   ],
   "source": [
    "import_module(\"app.extensions.agents\")\n",
    "provider = SymbolGraphProvider(\"sample_module.py\")\n",
    "conv = ConversationLog(\n",
    "    \"exp\",\n",
    "    0,\n",
    "    AgentRole.MEDIATOR,\n",
    "    \"sample_module.py\",\n",
    "    \"Use list comprehension\",\n",
    "    \"mediator\",\n",
    "    True,\n",
    ")\n",
    "qlog = CodeQualityLog(\"exp\", 0, \"sample_module.py\", 10, 12.0, 60.0, 1)\n",
    "slog = ScoringLog(\"exp\", 0, ScoringMetric.COVERAGE, 0.3)\n",
    "agent = AgentFactory.create(\n",
    "    \"recommendation\", target=\"sample_module.py\", context_provider=provider\n",
    ")\n",
    "agent.run(conversation_log=[conv], code_quality_log=[qlog], scoring_log=[slog])\n",
    "pd.DataFrame([r.__dict__ for r in agent.recommendation_logs])"
   ]
  }
 ],
 "metadata": {
  "kernelspec": {
   "display_name": ".venv",
   "language": "python",
   "name": "python3"
  },
  "language_info": {
   "codemirror_mode": {
    "name": "ipython",
    "version": 3
   },
   "file_extension": ".py",
   "mimetype": "text/x-python",
   "name": "python",
   "nbconvert_exporter": "python",
   "pygments_lexer": "ipython3",
   "version": "3.12.6"
  }
 },
 "nbformat": 4,
 "nbformat_minor": 5
}
