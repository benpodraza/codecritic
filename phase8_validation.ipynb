{
 "cells": [
  {
   "cell_type": "code",
   "execution_count": 1,
   "id": "phase8",
   "metadata": {},
   "outputs": [],
   "source": [
    "from importlib import import_module\n",
    "from app.bootstrap import seed_registries\n",
    "from app.registries.agents import AGENT_REGISTRY\n",
    "from app.registries.tool_providers import TOOL_PROVIDER_REGISTRY\n",
    "\n",
    "import_module('app.extensions.agents')\n",
    "import_module('app.extensions.context_providers')\n",
    "import_module('app.extensions.prompt_generators')\n",
    "import_module('app.extensions.tool_providers')\n",
    "import_module('app.extensions.scoring_models')\n",
    "import_module('app.extensions.state_managers')\n",
    "import_module('app.extensions.system_managers')\n",
    "\n",
    "seed_registries(reset_db=True)\n",
    "print(sorted(AGENT_REGISTRY.all().keys()))\n",
    "print(sorted(TOOL_PROVIDER_REGISTRY.all().keys()))\n"
   ]
  }
 ],
 "metadata": {},
 "nbformat": 4,
 "nbformat_minor": 5
}
