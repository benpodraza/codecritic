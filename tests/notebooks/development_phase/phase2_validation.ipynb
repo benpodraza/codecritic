{
 "cells": [
  {
   "cell_type": "code",
   "execution_count": 1,
   "id": "5bc4997c",
   "metadata": {},
   "outputs": [
    {
     "name": "stdout",
     "output_type": "stream",
     "text": [
      "StateTransitionLog(experiment_id='exp', round=0, from_state='start', to_state='generate', reason=None, timestamp=datetime.datetime(2025, 5, 18, 0, 15, 11, 51497))\n",
      "StateTransitionLog(experiment_id='exp', round=0, from_state='generate', to_state='discriminate', reason=None, timestamp=datetime.datetime(2025, 5, 18, 0, 15, 11, 51497))\n",
      "StateTransitionLog(experiment_id='exp', round=0, from_state='discriminate', to_state='mediate', reason=None, timestamp=datetime.datetime(2025, 5, 18, 0, 15, 11, 51497))\n",
      "StateTransitionLog(experiment_id='exp', round=0, from_state='mediate', to_state='patchor', reason=None, timestamp=datetime.datetime(2025, 5, 18, 0, 15, 11, 51497))\n",
      "StateTransitionLog(experiment_id='exp', round=0, from_state='patchor', to_state='recommender', reason=None, timestamp=datetime.datetime(2025, 5, 18, 0, 15, 11, 51497))\n",
      "StateTransitionLog(experiment_id='exp', round=0, from_state='recommender', to_state='end', reason=None, timestamp=datetime.datetime(2025, 5, 18, 0, 15, 11, 51497))\n"
     ]
    }
   ],
   "source": [
    "from importlib import import_module\n",
    "from app.factories.system_manager import SystemManagerFactory\n",
    "\n",
    "import_module(\"app.extensions.system_managers\")\n",
    "import_module(\"app.extensions.state_managers\")\n",
    "\n",
    "manager = SystemManagerFactory.create(\"system\")\n",
    "manager.run()\n",
    "for log in manager.transition_logs:\n",
    "    print(log)"
   ]
  }
 ],
 "metadata": {
  "kernelspec": {
   "display_name": ".venv",
   "language": "python",
   "name": "python3"
  },
  "language_info": {
   "codemirror_mode": {
    "name": "ipython",
    "version": 3
   },
   "file_extension": ".py",
   "mimetype": "text/x-python",
   "name": "python",
   "nbconvert_exporter": "python",
   "pygments_lexer": "ipython3",
   "version": "3.12.6"
  }
 },
 "nbformat": 4,
 "nbformat_minor": 5
}
