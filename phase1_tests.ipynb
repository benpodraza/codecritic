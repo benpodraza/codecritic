{
  "cells": [
    {
      "cell_type": "code",
      "execution_count": 1,
      "metadata": {},
      "outputs": [
        {
          "name": "stdout",
          "output_type": "stream",
          "text": [
            "<app.extensions.agents.dummy_agent.DummyAgent object at 0x0000022977B7B200> <app.extensions.system_managers.dummy_system_manager.DummySystemManager object at 0x000002297644BBF0> <app.extensions.state_managers.dummy_state_manager.DummyStateManager object at 0x0000022977C41940> dummy prompt True 0\n"
          ]
        }
      ],
      "source": [
        "from importlib import import_module\n",
        "from app.factories.agent import AgentFactory\n",
        "from app.factories.system_manager import SystemManagerFactory\n",
        "from app.factories.state_manager import StateManagerFactory\n",
        "from app.factories.prompt_manager import PromptGeneratorFactory\n",
        "from app.factories.tool_provider import ToolProviderFactory\n",
        "from app.factories.scoring_provider import ScoringProviderFactory\n",
        "import_module(\"app.extensions.agents\")\n",
        "\n",
        "agent = AgentFactory.create(\"dummy\")\n",
        "system_manager = SystemManagerFactory.create(\"dummy\")\n",
        "state_manager = StateManagerFactory.create(\"dummy\")\n",
        "prompt_gen = PromptGeneratorFactory.create(\"dummy\")\n",
        "tool_provider = ToolProviderFactory.create(\"dummy\")\n",
        "scoring_provider = ScoringProviderFactory.create(\"dummy\")\n",
        "\n",
        "print(agent, system_manager, state_manager, prompt_gen.generate_prompt(), tool_provider.run(), scoring_provider.score())"
      ]
    }
  ],
  "metadata": {
    "kernelspec": {
      "display_name": ".venv",
      "language": "python",
      "name": "python3"
    },
    "language_info": {
      "codemirror_mode": {
        "name": "ipython",
        "version": 3
      },
      "file_extension": ".py",
      "mimetype": "text/x-python",
      "name": "python",
      "nbconvert_exporter": "python",
      "pygments_lexer": "ipython3",
      "version": "3.12.6"
    }
  },
  "nbformat": 4,
  "nbformat_minor": 5
}
