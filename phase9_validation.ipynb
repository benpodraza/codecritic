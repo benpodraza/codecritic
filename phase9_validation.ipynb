{
 "cells": [
  {
   "cell_type": "code",
   "execution_count": 1,
   "id": "demo9",
   "metadata": {},
   "outputs": [],
   "source": [
    "from importlib import import_module\n",
    "from pathlib import Path\n",
    "\n",
    "from app.utilities.metadata.logging import LoggingProvider\n",
    "from app.utilities.snapshots.snapshot_writer import SnapshotWriter\n",
    "from app.factories.agent import AgentFactory\n",
    "\n",
    "import_module(\"app.extensions.agents\")\n",
    "import_module(\"app.extensions.tool_providers\")\n",
    "\n",
    "logger = LoggingProvider(db_path=\"experiments/demo.sqlite3\", output_path=\"experiments/demo_logs.jsonl\")\n",
    "writer = SnapshotWriter(root=\"experiments/demo_snapshots\")\n",
    "\n",
    "tmp = Path(\"tmp_demo.py\")\n",
    "tmp.write_text(\"x=1\")\n",
    "\n",
    "agent = AgentFactory.create(\"generator\", target=str(tmp), logger=logger, snapshot_writer=writer)\n",
    "agent.run()\n",
    "logger.close()\n",
    "\n",
    "with open(\"experiments/demo_logs.jsonl\") as fh:\n",
    "    for line in fh:\n",
    "        print(line.strip())\n",
    "\n",
    "print(sorted(Path(\"experiments/demo_snapshots/exp/0\").glob(\"*.before\")))\n"
   ]
  }
 ],
 "metadata": {
  "kernelspec": {
   "display_name": ".venv",
   "language": "python",
   "name": "python3"
  },
  "language_info": {
   "codemirror_mode": {
    "name": "ipython",
    "version": 3
   },
   "file_extension": ".py",
   "mimetype": "text/x-python",
   "name": "python",
   "nbconvert_exporter": "python",
   "pygments_lexer": "ipython3",
   "version": "3.12.6"
  }
 },
 "nbformat": 4,
 "nbformat_minor": 5
}
