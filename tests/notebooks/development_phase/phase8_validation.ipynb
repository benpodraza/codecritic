{
 "cells": [
  {
   "cell_type": "code",
   "execution_count": 1,
   "id": "phase8",
   "metadata": {},
   "outputs": [
    {
     "name": "stdout",
     "output_type": "stream",
     "text": [
      "['dummy', 'evaluator', 'generator']\n",
      "['black', 'docformatter', 'dummy', 'mypy', 'radon', 'ruff']\n"
     ]
    }
   ],
   "source": [
    "import os\n",
    "import gc\n",
    "import sqlite3\n",
    "from pathlib import Path\n",
    "\n",
    "# Force-close any open SQLite handles\n",
    "try:\n",
    "    conn = sqlite3.connect(\"experiments/codecritic.sqlite3\")\n",
    "    conn.close()\n",
    "except Exception:\n",
    "    pass\n",
    "\n",
    "gc.collect()\n",
    "\n",
    "# Now delete the file\n",
    "db_path = Path(\"experiments/codecritic.sqlite3\")\n",
    "if db_path.exists():\n",
    "    os.remove(db_path)\n",
    "\n",
    "# Now import and initialize cleanly\n",
    "from importlib import import_module\n",
    "from app.bootstrap import seed_registries\n",
    "from app.registries.agents import AGENT_REGISTRY\n",
    "from app.registries.tool_providers import TOOL_PROVIDER_REGISTRY\n",
    "\n",
    "import_module(\"app.extensions.agents\")\n",
    "import_module(\"app.extensions.context_providers\")\n",
    "import_module(\"app.extensions.prompt_generators\")\n",
    "import_module(\"app.extensions.tool_providers\")\n",
    "import_module(\"app.extensions.scoring_models\")\n",
    "import_module(\"app.extensions.state_managers\")\n",
    "import_module(\"app.extensions.system_managers\")\n",
    "\n",
    "seed_registries(reset_db=False)\n",
    "print(sorted(AGENT_REGISTRY.all().keys()))\n",
    "print(sorted(TOOL_PROVIDER_REGISTRY.all().keys()))"
   ]
  }
 ],
 "metadata": {
  "kernelspec": {
   "display_name": ".venv",
   "language": "python",
   "name": "python3"
  },
  "language_info": {
   "codemirror_mode": {
    "name": "ipython",
    "version": 3
   },
   "file_extension": ".py",
   "mimetype": "text/x-python",
   "name": "python",
   "nbconvert_exporter": "python",
   "pygments_lexer": "ipython3",
   "version": "3.12.6"
  }
 },
 "nbformat": 4,
 "nbformat_minor": 5
}
