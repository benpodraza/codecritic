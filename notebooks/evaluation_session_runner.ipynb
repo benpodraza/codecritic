{
 "cells": [
  {
   "cell_type": "code",
   "metadata": {},
   "source": [
    "from pathlib import Path\n",
    "import pandas as pd\n",
    "from app.visualization.dashboard import load_logs, build_state_transition_sankey, build_scoring_line_plot, build_recommendation_bar_plot\n"
   ],
   "outputs": []
  },
  {
   "cell_type": "code",
   "metadata": {},
   "source": [
    "DB_PATH = Path('experiments/codecritic.sqlite3')\n",
    "try:\n",
    "    logs = load_logs(DB_PATH)\n",
    "except FileNotFoundError:\n",
    "    logs = {k: pd.DataFrame() for k in ['state', 'transition', 'prompt', 'scoring', 'recommendation']}\n"
   ],
   "outputs": []
  },
  {
   "cell_type": "code",
   "metadata": {},
   "source": [
    "fig1 = build_state_transition_sankey(logs['transition'])\n",
    "fig1.show()\n"
   ],
   "outputs": []
  },
  {
   "cell_type": "code",
   "metadata": {},
   "source": [
    "fig2 = build_scoring_line_plot(logs['scoring'])\n",
    "fig2.show()\n"
   ],
   "outputs": []
  },
  {
   "cell_type": "code",
   "metadata": {},
   "source": [
    "fig3 = build_recommendation_bar_plot(logs['recommendation'])\n",
    "fig3.show()\n"
   ],
   "outputs": []
  }
 ],
 "metadata": {
  "kernelspec": {
   "display_name": "Python 3",
   "language": "python",
   "name": "python3"
  },
  "language_info": {
   "name": "python",
   "pygments_lexer": "ipython3"
  }
 },
 "nbformat": 4,
 "nbformat_minor": 5
}
