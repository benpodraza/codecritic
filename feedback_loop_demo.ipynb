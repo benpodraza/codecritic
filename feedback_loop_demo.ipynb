{
 "cells": [
  {
   "cell_type": "markdown",
   "metadata": {},
   "source": [
    "## Feedback Loop Demo"
   ]
  },
  {
   "cell_type": "code",
   "execution_count": 1,
   "metadata": {},
   "outputs": [],
   "source": [
    "from importlib import import_module\n",
    "from app.factories.agent import AgentFactory\n",
    "from app.utilities.feedback import FeedbackRepository\n",
    "from app.utilities.metadata.logging.log_schemas import FeedbackLog\n",
    "\n",
    "import_module(\"app.extensions.agents\")\n",
    "import_module(\"app.extensions.tool_providers\")\n",
    "\n",
    "agent = AgentFactory.create(\"generator\", target=\"sample_module.py\")\n",
    "agent.run(feedback=[\"initial pass\"])\n",
    "FeedbackRepository.add_feedback(FeedbackLog('exp', 0, 'user', 'increase maintainability'))\n",
    "agent.run(feedback=[f.feedback for f in FeedbackRepository.get_feedback('exp')])"
   ]
  }
 ],
 "metadata": {
  "kernelspec": {
   "display_name": ".venv",
   "language": "python",
   "name": "python3"
  },
  "language_info": {
   "name": "python",
   "version": "3.12.6"
  }
 },
 "nbformat": 4,
 "nbformat_minor": 5
}
