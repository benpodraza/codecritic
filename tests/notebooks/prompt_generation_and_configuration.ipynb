{
 "cells": [
  {
   "cell_type": "markdown",
   "metadata": {},
   "source": [
    "# Notebook: Prompt Generation and Configuration\n",
    "\n",
    "This notebook validates prompt creation, context provider integrations, extension mechanisms, and logging behavior. It follows the structure of the linting build-up notebook to ensure consistent testing."
   ]
  },
  {
   "cell_type": "code",
   "metadata": {},
   "execution_count": null,
   "outputs": [],
   "source": [
    "import sys\n",
    "from importlib import import_module\n",
    "import logging\n",
    "from pathlib import Path\n",
    "\n",
    "PROJECT_ROOT = Path.cwd().parent.parent\n",
    "sys.path.insert(0, str(PROJECT_ROOT))\n",
    "\n",
    "from app.factories.prompt_manager import PromptGeneratorFactory\n",
    "from app.factories.context_provider import ContextProviderFactory\n",
    "from app.factories.logging_provider import LoggingProvider\n",
    "from app.factories.tool_provider import ToolProviderFactory\n",
    "\n",
    "import_module('app.extensions.prompt_generators')\n",
    "import_module('app.extensions.context_providers')\n",
    "import_module('app.extensions.tool_providers')\n",
    "\n",
    "logging.basicConfig(level=logging.DEBUG)"
   ]
  },
  {
   "cell_type": "markdown",
   "metadata": {},
   "source": [
    "### Basic System Prompt\n",
    "\n",
    "A minimal system prompt is created using the `BasicPromptGenerator`. The prompt combines system and agent templates with optional context."
   ]
  },
  {
   "cell_type": "code",
   "metadata": {},
   "execution_count": null,
   "outputs": [],
   "source": [
    "provider = ContextProviderFactory.create('dummy')\n",
    "generator = PromptGeneratorFactory.create('basic', context_provider=provider)\n",
    "\n",
    "system_config = {'template': 'System instructions'}\n",
    "agent_config = {'template': 'Agent instructions'}\n",
    "\n",
    "try:\n",
    "    prompt = generator.generate_prompt(agent_config, system_config)\n",
    "    print(prompt)\n",
    "except Exception as e:\n",
    "    print('Prompt generation failed:', e)"
   ]
  },
  {
   "cell_type": "markdown",
   "metadata": {},
   "source": [
    "### Multiple Agent-Level Prompts\n",
    "\n",
    "Prompts for generation, evaluation, and mediation roles are produced to ensure the generator handles varied agent instructions."
   ]
  },
  {
   "cell_type": "code",
   "metadata": {},
   "execution_count": null,
   "outputs": [],
   "source": [
    "agent_configs = {\n",
    "    'generation': {'template': 'Generation prompt'},\n",
    "    'evaluation': {'template': 'Evaluation prompt'},\n",
    "    'mediation': {'template': 'Mediation prompt'},\n",
    "}\n",
    "\n",
    "for name, cfg in agent_configs.items():\n",
    "    try:\n",
    "        p = generator.generate_prompt(cfg, system_config)\n",
    "        print(f'{name}: {p}')\n",
    "    except Exception as e:\n",
    "        print(f'{name} failed:', e)"
   ]
  },
  {
   "cell_type": "markdown",
   "metadata": {},
   "source": [
    "### Context Providers\n",
    "\n",
    "Different context providers supply additional code data. This cell registers available providers and renders prompts with each."
   ]
  },
  {
   "cell_type": "code",
   "metadata": {},
   "execution_count": null,
   "outputs": [],
   "source": [
    "dummy = ContextProviderFactory.create('dummy')\n",
    "try:\n",
    "    symbol = ContextProviderFactory.create('symbol_graph', target=Path('sample_module.py'))\n",
    "except Exception as e:\n",
    "    print('SymbolGraphProvider creation failed:', e)\n",
    "    symbol = None\n",
    "\n",
    "providers = [p for p in (dummy, symbol) if p is not None]\n",
    "\n",
    "for p in providers:\n",
    "    try:\n",
    "        _ = p.get_context()\n",
    "        result = PromptGeneratorFactory.create('basic', context_provider=p).generate_prompt(agent_config, system_config)\n",
    "        print(f'{p.__class__.__name__}: {result}')\n",
    "    except Exception as e:\n",
    "        print(p.__class__.__name__, 'error:', e)"
   ]
  },
  {
   "cell_type": "markdown",
   "metadata": {},
   "source": [
    "### Tool Providers\n",
    "\n",
    "Tool providers execute external utilities used in the prompting workflow. Errors for invalid providers are explicitly shown."
   ]
  },
  {
   "cell_type": "code",
   "metadata": {},
   "execution_count": null,
   "outputs": [],
   "source": [
    "try:\n",
    "    black = ToolProviderFactory.create('black')\n",
    "    tmp = Path('tmp.py')\n",
    "    tmp.write_text('x=1')\n",
    "    result = black.run(str(tmp))\n",
    "    print('Black return:', result.returncode)\n",
    "except Exception as e:\n",
    "    print('Black failed:', e)\n",
    "finally:\n",
    "    tmp.unlink(missing_ok=True)\n",
    "\n",
    "try:\n",
    "    ToolProviderFactory.create('nonexistent')\n",
    "except Exception as e:\n",
    "    print('Expected tool error:', e)"
   ]
  },
  {
   "cell_type": "markdown",
   "metadata": {},
   "source": [
    "### Logging Verification\n",
    "\n",
    "Logging operations should succeed under normal conditions and raise errors on misuse."
   ]
  },
  {
   "cell_type": "code",
   "metadata": {},
   "execution_count": null,
   "outputs": [],
   "source": [
    "logger = LoggingProvider(':memory:')\n",
    "from app.enums.logging_enums import LogType\n",
    "from app.utilities.metadata.logging.log_schemas import StateLog\n",
    "\n",
    "try:\n",
    "    logger.log_state(StateLog(experiment_id='exp', round=0, state='test'))\n",
    "    print('State logged')\n",
    "except Exception as e:\n",
    "    print('Logging failed:', e)\n",
    "\n",
    "try:\n",
    "    logger.write(LogType.STATE, object())\n",
    "except Exception as e:\n",
    "    print('Expected logging error:', e)"
   ]
  }
 ],
 "metadata": {
  "kernelspec": {
   "display_name": ".venv",
   "language": "python",
   "name": "python3"
  },
  "language_info": {
   "codemirror_mode": {
    "name": "ipython",
    "version": 3
   },
   "file_extension": ".py",
   "mimetype": "text/x-python",
   "name": "python",
   "nbconvert_exporter": "python",
   "pygments_lexer": "ipython3",
   "version": "3.12.6"
  }
 },
 "nbformat": 4,
 "nbformat_minor": 5
}
