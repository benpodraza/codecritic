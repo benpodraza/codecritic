{
 "cells": [
  {
   "cell_type": "markdown",
   "metadata": {},
   "source": [
    "# Symbol Graph Caching Demo"
   ]
  },
  {
   "cell_type": "markdown",
   "metadata": {},
   "source": [
    "Demonstrate how the `SymbolGraphProvider` reuses cached graphs for faster repeated analysis."
   ]
  },
  {
   "cell_type": "code",
   "metadata": {},
   "execution_count": null,
   "source": [
    "from time import perf_counter\n",
    "from app.extensions.context_providers.symbol_graph_provider import SymbolGraphProvider"
   ]
  },
  {
   "cell_type": "code",
   "metadata": {},
   "execution_count": null,
   "source": [
    "provider = SymbolGraphProvider('sample_module.py')\n",
    "start = perf_counter()\n",
    "ctx = provider.get_context()\n",
    "print(f'First build: {perf_counter() - start:.4f}s')\n",
    "len(ctx['symbol_graph'])"
   ]
  },
  {
   "cell_type": "code",
   "metadata": {},
   "execution_count": null,
   "source": [
    "start = perf_counter()\n",
    "ctx = provider.get_context()\n",
    "print(f'Second build (cached): {perf_counter() - start:.4f}s')\n",
    "len(ctx['symbol_graph'])"
   ]
  }
 ],
 "metadata": {
  "kernelspec": {
   "display_name": "Python 3",
   "language": "python",
   "name": "python3"
  },
  "language_info": {
   "name": "python",
   "pygments_lexer": "ipython3"
  }
 },
 "nbformat": 4,
 "nbformat_minor": 5
}
