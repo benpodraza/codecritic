{
 "cells": [
  {
   "cell_type": "code",
   "execution_count": 2,
   "id": "phase4-demo",
   "metadata": {},
   "outputs": [
    {
     "name": "stdout",
     "output_type": "stream",
     "text": [
      "{'functions': ['foo(x)'], 'classes': {'Bar': ['baz(self, y)']}, 'call_map': {'foo': [], 'Bar.baz': ['foo']}}\n",
      "System instructions\n",
      "\n",
      "Agent instructions\n",
      "\n",
      "Functions: foo(x)\n",
      "Classes: Bar\n"
     ]
    }
   ],
   "source": [
    "from importlib import import_module\n",
    "from pathlib import Path\n",
    "\n",
    "from app.factories.context_provider import ContextProviderFactory\n",
    "from app.factories.prompt_manager import PromptGeneratorFactory\n",
    "\n",
    "import_module(\"app.extensions.context_providers\")\n",
    "import_module(\"app.extensions.prompt_generators\")\n",
    "\n",
    "sample = Path(\"sample_module.py\")\n",
    "sample.write_text(\n",
    "    \"\"\"\n",
    "def foo(x):\n",
    "    return x + 1\n",
    "\n",
    "class Bar:\n",
    "    def baz(self, y):\n",
    "        return foo(y)\n",
    "\"\"\"\n",
    ")\n",
    "\n",
    "provider = ContextProviderFactory.create(\"symbol_graph\", module_path=str(sample))\n",
    "context = provider.get_context()\n",
    "print(context)\n",
    "\n",
    "agent_cfg = {\"template\": \"Agent instructions\"}\n",
    "system_cfg = {\"template\": \"System instructions\"}\n",
    "generator = PromptGeneratorFactory.create(\"basic\", context_provider=provider)\n",
    "prompt = generator.generate_prompt(agent_cfg, system_cfg)\n",
    "print(prompt)\n",
    "\n",
    "assert \"foo(\" in prompt\n",
    "assert \"Agent instructions\" in prompt\n",
    "assert \"System instructions\" in prompt"
   ]
  }
 ],
 "metadata": {
  "kernelspec": {
   "display_name": ".venv",
   "language": "python",
   "name": "python3"
  },
  "language_info": {
   "codemirror_mode": {
    "name": "ipython",
    "version": 3
   },
   "file_extension": ".py",
   "mimetype": "text/x-python",
   "name": "python",
   "nbconvert_exporter": "python",
   "pygments_lexer": "ipython3",
   "version": "3.12.6"
  }
 },
 "nbformat": 4,
 "nbformat_minor": 5
}
