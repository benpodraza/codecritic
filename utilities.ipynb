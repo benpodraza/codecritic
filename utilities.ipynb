{
 "cells": [
  {
   "cell_type": "code",
   "execution_count": 31,
   "id": "55b9da05",
   "metadata": {},
   "outputs": [
    {
     "name": "stdout",
     "output_type": "stream",
     "text": [
      "✅ File manifest saved at 2025-05-16T22:06:38.504914 to: C:\\Repos\\codecritic\\references\\file_manifest.txt\n"
     ]
    }
   ],
   "source": [
    "import os\n",
    "import pathspec\n",
    "from pathlib import Path\n",
    "from datetime import datetime\n",
    "\n",
    "def build_file_manifest(include_dirs=[\"/\"]):\n",
    "    project_root = Path().resolve()\n",
    "    output_dir = project_root / \"references\"\n",
    "    output_dir.mkdir(parents=True, exist_ok=True)\n",
    "    output_filename = output_dir / \"file_manifest.txt\"\n",
    "\n",
    "    def load_gitignore_spec(root_dir):\n",
    "        gitignore_path = root_dir / \".gitignore\"\n",
    "        if gitignore_path.exists():\n",
    "            return pathspec.PathSpec.from_lines('gitwildmatch', gitignore_path.read_text().splitlines())\n",
    "        return None\n",
    "\n",
    "    def traverse_dir(directory, root_dir, spec, include_dirs, indent_level=0):\n",
    "        lines = []\n",
    "        indent = \"   \" * indent_level\n",
    "        for entry in sorted(os.listdir(directory)):\n",
    "            if entry in [\".git\", \"__pycache__\"]:\n",
    "                continue\n",
    "            if indent_level == 1 and include_dirs != [\"/\"] and entry not in include_dirs:\n",
    "                continue\n",
    "            full_path = os.path.join(directory, entry)\n",
    "            rel_path = os.path.relpath(full_path, root_dir).replace(os.path.sep, \"/\")\n",
    "            if spec and spec.match_file(rel_path):\n",
    "                continue\n",
    "            lines.append(f\"{indent}- {entry}\")\n",
    "            if os.path.isdir(full_path):\n",
    "                lines.extend(traverse_dir(full_path, root_dir, spec, include_dirs, indent_level + 1))\n",
    "        return lines\n",
    "\n",
    "    spec = load_gitignore_spec(project_root)\n",
    "    tree_lines = [project_root.name]\n",
    "    tree_lines.extend(traverse_dir(project_root, project_root, spec, include_dirs, indent_level=1))\n",
    "\n",
    "    with output_filename.open(\"w\", encoding=\"utf-8\") as f:\n",
    "        f.write(\"\\n\".join(tree_lines))\n",
    "\n",
    "    print(f\"✅ File manifest saved at {datetime.now().isoformat()} to: {output_filename}\")\n",
    "\n",
    "# Run it\n",
    "build_file_manifest([\"/\"])  # or use [\"app\", \"experiments\"]\n"
   ]
  },
  {
   "cell_type": "code",
   "execution_count": 32,
   "id": "7b04df44",
   "metadata": {},
   "outputs": [
    {
     "name": "stdout",
     "output_type": "stream",
     "text": [
      "✅ Flattened code and text written to: references\\flattened_app.txt\n"
     ]
    }
   ],
   "source": [
    "from pathlib import Path\n",
    "\n",
    "def flatten_code_and_text_files(target_dir: str):\n",
    "    target_path = Path(target_dir).resolve()\n",
    "    target_name = target_path.name.lower().replace(\" \", \"_\")\n",
    "    output_path = Path(\"references\") / f\"flattened_{target_name}.txt\"\n",
    "    output_path.parent.mkdir(parents=True, exist_ok=True)\n",
    "\n",
    "    python_files = []\n",
    "    text_files = []\n",
    "\n",
    "    for file in sorted(target_path.rglob(\"*\")):\n",
    "        if file.is_file() and \"__pycache__\" not in file.parts and not file.name.startswith(\".\"):\n",
    "            if file.suffix == \".py\":\n",
    "                python_files.append(file)\n",
    "            elif file.suffix.lower() in [\".yaml\", \".yml\", \".json\", \".txt\", \".md\", \".ini\", \".cfg\"]:\n",
    "                text_files.append(file)\n",
    "\n",
    "    def write_section(header: str, files: list[Path], out):\n",
    "        out.write(f\"\\n# === {header.upper()} FILES ===\\n\\n\")\n",
    "        for f in files:\n",
    "            out.write(f\"# {f.relative_to(target_path)}\\n\\n\")\n",
    "            try:\n",
    "                with f.open(\"r\", encoding=\"utf-8\") as source:\n",
    "                    for i, line in enumerate(source, start=1):\n",
    "                        sanitized = line.rstrip(\"\\n\").replace(\"#\", \"# \")\n",
    "                        out.write(f\"# {i} {sanitized}\\n\")\n",
    "            except Exception as e:\n",
    "                out.write(f\"# ERROR reading file: {e}\\n\")\n",
    "            out.write(\"\\n\\n\")\n",
    "\n",
    "    with output_path.open(\"w\", encoding=\"utf-8\") as out:\n",
    "        write_section(\"python\", python_files, out)\n",
    "        write_section(\"non-python\", text_files, out)\n",
    "\n",
    "    print(f\"✅ Flattened code and text written to: {output_path}\")\n",
    "\n",
    "# Example usage:\n",
    "flatten_code_and_text_files(\"app\")  # Or flatten_code_and_text_files(\"experiments\")\n"
   ]
  },
  {
   "cell_type": "code",
   "execution_count": 33,
   "id": "b686c9d8",
   "metadata": {},
   "outputs": [
    {
     "name": "stdout",
     "output_type": "stream",
     "text": [
      "✅ Done. 0 new __init__.py files created under C:\\Repos\\codecritic\\app.\n"
     ]
    }
   ],
   "source": [
    "from pathlib import Path\n",
    "\n",
    "def ensure_init_files(root_dir: str):\n",
    "    \"\"\"\n",
    "    Recursively ensures all directories under root_dir contain an __init__.py file.\n",
    "    \n",
    "    Args:\n",
    "        root_dir (str): Path to the directory to scan (e.g., 'agent_utils')\n",
    "    \"\"\"\n",
    "    root_path = Path(root_dir).resolve()\n",
    "    if not root_path.is_dir():\n",
    "        print(f\"❌ Not a valid directory: {root_path}\")\n",
    "        return\n",
    "\n",
    "    created = 0\n",
    "    for folder in root_path.rglob(\"*\"):\n",
    "        if folder.is_dir():\n",
    "            init_file = folder / \"__init__.py\"\n",
    "            if not init_file.exists():\n",
    "                init_file.touch()\n",
    "                created += 1\n",
    "                print(f\"📦 Created: {init_file}\")\n",
    "\n",
    "    print(f\"✅ Done. {created} new __init__.py files created under {root_path}.\")\n",
    "\n",
    "# Example usage:\n",
    "ensure_init_files(\"app\")\n",
    "# or: ensure_init_files(\"app\")\n"
   ]
  },
  {
   "cell_type": "code",
   "execution_count": 34,
   "id": "2733991b",
   "metadata": {},
   "outputs": [
    {
     "name": "stdout",
     "output_type": "stream",
     "text": [
      "✅ Environment loaded from: env/.env\n"
     ]
    }
   ],
   "source": [
    "import sys\n",
    "from pathlib import Path\n",
    "\n",
    "from dotenv import load_dotenv\n",
    "root_env = \"env/.env\"\n",
    "load_dotenv(dotenv_path=root_env)\n",
    "\n",
    "print(\"✅ Environment loaded from:\", root_env)"
   ]
  },
  {
   "cell_type": "code",
   "execution_count": 35,
   "id": "c05fd83d",
   "metadata": {},
   "outputs": [
    {
     "name": "stdout",
     "output_type": "stream",
     "text": [
      "{'component': {'id': 'AZbWimETk2iSI_fLaUTU', 'key': 'benpodraza_codecritic', 'name': 'codecritic', 'qualifier': 'TRK', 'measures': []}}\n"
     ]
    }
   ],
   "source": [
    "import os\n",
    "import requests\n",
    "\n",
    "# Get credentials from environment or define manually\n",
    "SONAR_TOKEN = os.getenv(\"SONAR_TOKEN\")\n",
    "SONAR_PROJECT_KEY = os.getenv(\"SONAR_PROJECT_KEY\")\n",
    "\n",
    "# SonarCloud API endpoint\n",
    "url = \"https://sonarcloud.io/api/measures/component\"\n",
    "\n",
    "# Query parameters\n",
    "params = {\n",
    "    \"component\": SONAR_PROJECT_KEY,\n",
    "    \"metricKeys\": \"complexity,code_smells,comment_lines_density,duplicated_lines_density\"\n",
    "}\n",
    "\n",
    "# Auth headers\n",
    "headers = {\n",
    "    \"Authorization\": f\"Bearer {SONAR_TOKEN}\"\n",
    "}\n",
    "\n",
    "# Make the request\n",
    "response = requests.get(url, headers=headers, params=params)\n",
    "\n",
    "# Raise if error\n",
    "response.raise_for_status()\n",
    "\n",
    "# Show parsed JSON\n",
    "data = response.json()\n",
    "print(data)\n"
   ]
  }
 ],
 "metadata": {
  "kernelspec": {
   "display_name": ".venv",
   "language": "python",
   "name": "python3"
  },
  "language_info": {
   "codemirror_mode": {
    "name": "ipython",
    "version": 3
   },
   "file_extension": ".py",
   "mimetype": "text/x-python",
   "name": "python",
   "nbconvert_exporter": "python",
   "pygments_lexer": "ipython3",
   "version": "3.12.6"
  }
 },
 "nbformat": 4,
 "nbformat_minor": 5
}
